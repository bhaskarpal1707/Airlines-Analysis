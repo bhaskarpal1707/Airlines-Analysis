{
 "cells": [
  {
   "cell_type": "code",
   "execution_count": 1,
   "id": "660eb2a4-2919-4a3d-8a94-ee4d54ab84f0",
   "metadata": {},
   "outputs": [],
   "source": [
    "import sqlite3\n",
    "import pandas as pd\n",
    "import matplotlib.pyplot as plt\n",
    "import seaborn as sns\n",
    "import warnings\n",
    "warnings.filterwarnings('ignore')"
   ]
  },
  {
   "cell_type": "markdown",
   "id": "6eb5fe4d-2659-4e0a-9480-267a4a5e17f3",
   "metadata": {},
   "source": [
    "# Database Connection"
   ]
  },
  {
   "cell_type": "code",
   "execution_count": 2,
   "id": "3e30acd5-c516-406e-8b67-55855c5775c8",
   "metadata": {},
   "outputs": [],
   "source": [
    "connection = sqlite3.connect('travel.sqlite')\n",
    "cursor = connection.cursor()"
   ]
  },
  {
   "cell_type": "code",
   "execution_count": 3,
   "id": "1fef07b9-d723-4f96-b483-133724bf784d",
   "metadata": {},
   "outputs": [
    {
     "name": "stdout",
     "output_type": "stream",
     "text": [
      "List of Tables present in the Database\n"
     ]
    },
    {
     "data": {
      "text/plain": [
       "['aircrafts_data',\n",
       " 'airports_data',\n",
       " 'boarding_passes',\n",
       " 'bookings',\n",
       " 'flights',\n",
       " 'seats',\n",
       " 'ticket_flights',\n",
       " 'tickets']"
      ]
     },
     "execution_count": 3,
     "metadata": {},
     "output_type": "execute_result"
    }
   ],
   "source": [
    "# extracting table names from the database\n",
    "cursor.execute(\"\"\"SELECT name FROM sqlite_master WHERE type='table';\"\"\")\n",
    "print('List of Tables present in the Database')\n",
    "table_list = [table[0] for table in cursor.fetchall()]\n",
    "table_list"
   ]
  },
  {
   "cell_type": "markdown",
   "id": "1838e9bd-a72e-4321-832c-3c1efe8f3469",
   "metadata": {},
   "source": [
    "# Data Exploration"
   ]
  },
  {
   "cell_type": "markdown",
   "id": "78c7f7b1-86a9-4071-a2c9-596dae545346",
   "metadata": {},
   "source": [
    "## 1. aircrafts_data:"
   ]
  },
  {
   "cell_type": "code",
   "execution_count": 4,
   "id": "34eeb331-a926-4218-9da1-3d2cfa60247b",
   "metadata": {},
   "outputs": [
    {
     "data": {
      "text/html": [
       "<div>\n",
       "<style scoped>\n",
       "    .dataframe tbody tr th:only-of-type {\n",
       "        vertical-align: middle;\n",
       "    }\n",
       "\n",
       "    .dataframe tbody tr th {\n",
       "        vertical-align: top;\n",
       "    }\n",
       "\n",
       "    .dataframe thead th {\n",
       "        text-align: right;\n",
       "    }\n",
       "</style>\n",
       "<table border=\"1\" class=\"dataframe\">\n",
       "  <thead>\n",
       "    <tr style=\"text-align: right;\">\n",
       "      <th></th>\n",
       "      <th>aircraft_code</th>\n",
       "      <th>model</th>\n",
       "      <th>range</th>\n",
       "    </tr>\n",
       "  </thead>\n",
       "  <tbody>\n",
       "    <tr>\n",
       "      <th>0</th>\n",
       "      <td>773</td>\n",
       "      <td>{\"en\": \"Boeing 777-300\", \"ru\": \"Боинг 777-300\"}</td>\n",
       "      <td>11100</td>\n",
       "    </tr>\n",
       "    <tr>\n",
       "      <th>1</th>\n",
       "      <td>763</td>\n",
       "      <td>{\"en\": \"Boeing 767-300\", \"ru\": \"Боинг 767-300\"}</td>\n",
       "      <td>7900</td>\n",
       "    </tr>\n",
       "    <tr>\n",
       "      <th>2</th>\n",
       "      <td>SU9</td>\n",
       "      <td>{\"en\": \"Sukhoi Superjet-100\", \"ru\": \"Сухой Суп...</td>\n",
       "      <td>3000</td>\n",
       "    </tr>\n",
       "    <tr>\n",
       "      <th>3</th>\n",
       "      <td>320</td>\n",
       "      <td>{\"en\": \"Airbus A320-200\", \"ru\": \"Аэробус A320-...</td>\n",
       "      <td>5700</td>\n",
       "    </tr>\n",
       "    <tr>\n",
       "      <th>4</th>\n",
       "      <td>321</td>\n",
       "      <td>{\"en\": \"Airbus A321-200\", \"ru\": \"Аэробус A321-...</td>\n",
       "      <td>5600</td>\n",
       "    </tr>\n",
       "  </tbody>\n",
       "</table>\n",
       "</div>"
      ],
      "text/plain": [
       "  aircraft_code                                              model  range\n",
       "0           773    {\"en\": \"Boeing 777-300\", \"ru\": \"Боинг 777-300\"}  11100\n",
       "1           763    {\"en\": \"Boeing 767-300\", \"ru\": \"Боинг 767-300\"}   7900\n",
       "2           SU9  {\"en\": \"Sukhoi Superjet-100\", \"ru\": \"Сухой Суп...   3000\n",
       "3           320  {\"en\": \"Airbus A320-200\", \"ru\": \"Аэробус A320-...   5700\n",
       "4           321  {\"en\": \"Airbus A321-200\", \"ru\": \"Аэробус A321-...   5600"
      ]
     },
     "execution_count": 4,
     "metadata": {},
     "output_type": "execute_result"
    }
   ],
   "source": [
    "aircrafts_data = pd.read_sql_query(f\"\"\"SELECT * FROM aircrafts_data\"\"\", connection)\n",
    "aircrafts_data.head()"
   ]
  },
  {
   "cell_type": "code",
   "execution_count": 7,
   "id": "adf2ad89-e3ee-4049-ba9f-6950e5f8af4e",
   "metadata": {},
   "outputs": [
    {
     "data": {
      "text/plain": [
       "(9, 3)"
      ]
     },
     "execution_count": 7,
     "metadata": {},
     "output_type": "execute_result"
    }
   ],
   "source": [
    "aircrafts_data.shape"
   ]
  },
  {
   "cell_type": "code",
   "execution_count": 8,
   "id": "de04eb69-e57e-4bbc-b100-430d66046989",
   "metadata": {},
   "outputs": [
    {
     "name": "stdout",
     "output_type": "stream",
     "text": [
      "<class 'pandas.core.frame.DataFrame'>\n",
      "RangeIndex: 9 entries, 0 to 8\n",
      "Data columns (total 3 columns):\n",
      " #   Column         Non-Null Count  Dtype \n",
      "---  ------         --------------  ----- \n",
      " 0   aircraft_code  9 non-null      object\n",
      " 1   model          9 non-null      object\n",
      " 2   range          9 non-null      int64 \n",
      "dtypes: int64(1), object(2)\n",
      "memory usage: 344.0+ bytes\n"
     ]
    }
   ],
   "source": [
    "aircrafts_data.info()"
   ]
  },
  {
   "cell_type": "code",
   "execution_count": 9,
   "id": "421ce809-01de-4036-83eb-e42fdd197f10",
   "metadata": {
    "scrolled": true
   },
   "outputs": [
    {
     "data": {
      "text/html": [
       "<div>\n",
       "<style scoped>\n",
       "    .dataframe tbody tr th:only-of-type {\n",
       "        vertical-align: middle;\n",
       "    }\n",
       "\n",
       "    .dataframe tbody tr th {\n",
       "        vertical-align: top;\n",
       "    }\n",
       "\n",
       "    .dataframe thead th {\n",
       "        text-align: right;\n",
       "    }\n",
       "</style>\n",
       "<table border=\"1\" class=\"dataframe\">\n",
       "  <thead>\n",
       "    <tr style=\"text-align: right;\">\n",
       "      <th></th>\n",
       "      <th>aircraft_code</th>\n",
       "      <th>model</th>\n",
       "      <th>range</th>\n",
       "    </tr>\n",
       "  </thead>\n",
       "  <tbody>\n",
       "    <tr>\n",
       "      <th>count</th>\n",
       "      <td>9</td>\n",
       "      <td>9</td>\n",
       "      <td>9.000000</td>\n",
       "    </tr>\n",
       "    <tr>\n",
       "      <th>unique</th>\n",
       "      <td>9</td>\n",
       "      <td>9</td>\n",
       "      <td>NaN</td>\n",
       "    </tr>\n",
       "    <tr>\n",
       "      <th>top</th>\n",
       "      <td>773</td>\n",
       "      <td>{\"en\": \"Boeing 777-300\", \"ru\": \"Боинг 777-300\"}</td>\n",
       "      <td>NaN</td>\n",
       "    </tr>\n",
       "    <tr>\n",
       "      <th>freq</th>\n",
       "      <td>1</td>\n",
       "      <td>1</td>\n",
       "      <td>NaN</td>\n",
       "    </tr>\n",
       "    <tr>\n",
       "      <th>mean</th>\n",
       "      <td>NaN</td>\n",
       "      <td>NaN</td>\n",
       "      <td>5344.444444</td>\n",
       "    </tr>\n",
       "    <tr>\n",
       "      <th>std</th>\n",
       "      <td>NaN</td>\n",
       "      <td>NaN</td>\n",
       "      <td>3013.764718</td>\n",
       "    </tr>\n",
       "    <tr>\n",
       "      <th>min</th>\n",
       "      <td>NaN</td>\n",
       "      <td>NaN</td>\n",
       "      <td>1200.000000</td>\n",
       "    </tr>\n",
       "    <tr>\n",
       "      <th>25%</th>\n",
       "      <td>NaN</td>\n",
       "      <td>NaN</td>\n",
       "      <td>3000.000000</td>\n",
       "    </tr>\n",
       "    <tr>\n",
       "      <th>50%</th>\n",
       "      <td>NaN</td>\n",
       "      <td>NaN</td>\n",
       "      <td>5600.000000</td>\n",
       "    </tr>\n",
       "    <tr>\n",
       "      <th>75%</th>\n",
       "      <td>NaN</td>\n",
       "      <td>NaN</td>\n",
       "      <td>6700.000000</td>\n",
       "    </tr>\n",
       "    <tr>\n",
       "      <th>max</th>\n",
       "      <td>NaN</td>\n",
       "      <td>NaN</td>\n",
       "      <td>11100.000000</td>\n",
       "    </tr>\n",
       "  </tbody>\n",
       "</table>\n",
       "</div>"
      ],
      "text/plain": [
       "       aircraft_code                                            model  \\\n",
       "count              9                                                9   \n",
       "unique             9                                                9   \n",
       "top              773  {\"en\": \"Boeing 777-300\", \"ru\": \"Боинг 777-300\"}   \n",
       "freq               1                                                1   \n",
       "mean             NaN                                              NaN   \n",
       "std              NaN                                              NaN   \n",
       "min              NaN                                              NaN   \n",
       "25%              NaN                                              NaN   \n",
       "50%              NaN                                              NaN   \n",
       "75%              NaN                                              NaN   \n",
       "max              NaN                                              NaN   \n",
       "\n",
       "               range  \n",
       "count       9.000000  \n",
       "unique           NaN  \n",
       "top              NaN  \n",
       "freq             NaN  \n",
       "mean     5344.444444  \n",
       "std      3013.764718  \n",
       "min      1200.000000  \n",
       "25%      3000.000000  \n",
       "50%      5600.000000  \n",
       "75%      6700.000000  \n",
       "max     11100.000000  "
      ]
     },
     "execution_count": 9,
     "metadata": {},
     "output_type": "execute_result"
    }
   ],
   "source": [
    "aircrafts_data.describe()\n",
    "aircrafts_data.describe(include='all')"
   ]
  },
  {
   "cell_type": "code",
   "execution_count": 10,
   "id": "85cc243c-d62c-4f1c-a43c-eeec9308603b",
   "metadata": {
    "scrolled": true
   },
   "outputs": [
    {
     "data": {
      "text/plain": [
       "Index(['aircraft_code', 'model', 'range'], dtype='object')"
      ]
     },
     "execution_count": 10,
     "metadata": {},
     "output_type": "execute_result"
    }
   ],
   "source": [
    "aircrafts_data.columns"
   ]
  },
  {
   "cell_type": "markdown",
   "id": "b39f2f05-5152-4111-9dec-b17ddb8b4456",
   "metadata": {},
   "source": [
    "## 2. airports_data:"
   ]
  },
  {
   "cell_type": "code",
   "execution_count": 11,
   "id": "0f0730a5-ed83-40d2-b7a1-c0fb015ef28e",
   "metadata": {
    "scrolled": true
   },
   "outputs": [
    {
     "data": {
      "text/html": [
       "<div>\n",
       "<style scoped>\n",
       "    .dataframe tbody tr th:only-of-type {\n",
       "        vertical-align: middle;\n",
       "    }\n",
       "\n",
       "    .dataframe tbody tr th {\n",
       "        vertical-align: top;\n",
       "    }\n",
       "\n",
       "    .dataframe thead th {\n",
       "        text-align: right;\n",
       "    }\n",
       "</style>\n",
       "<table border=\"1\" class=\"dataframe\">\n",
       "  <thead>\n",
       "    <tr style=\"text-align: right;\">\n",
       "      <th></th>\n",
       "      <th>airport_code</th>\n",
       "      <th>airport_name</th>\n",
       "      <th>city</th>\n",
       "      <th>coordinates</th>\n",
       "      <th>timezone</th>\n",
       "    </tr>\n",
       "  </thead>\n",
       "  <tbody>\n",
       "    <tr>\n",
       "      <th>0</th>\n",
       "      <td>YKS</td>\n",
       "      <td>{\"en\": \"Yakutsk Airport\", \"ru\": \"Якутск\"}</td>\n",
       "      <td>{\"en\": \"Yakutsk\", \"ru\": \"Якутск\"}</td>\n",
       "      <td>(129.77099609375,62.0932998657226562)</td>\n",
       "      <td>Asia/Yakutsk</td>\n",
       "    </tr>\n",
       "    <tr>\n",
       "      <th>1</th>\n",
       "      <td>MJZ</td>\n",
       "      <td>{\"en\": \"Mirny Airport\", \"ru\": \"Мирный\"}</td>\n",
       "      <td>{\"en\": \"Mirnyj\", \"ru\": \"Мирный\"}</td>\n",
       "      <td>(114.03900146484375,62.534698486328125)</td>\n",
       "      <td>Asia/Yakutsk</td>\n",
       "    </tr>\n",
       "    <tr>\n",
       "      <th>2</th>\n",
       "      <td>KHV</td>\n",
       "      <td>{\"en\": \"Khabarovsk-Novy Airport\", \"ru\": \"Хабар...</td>\n",
       "      <td>{\"en\": \"Khabarovsk\", \"ru\": \"Хабаровск\"}</td>\n",
       "      <td>(135.18800354004,48.5279998779300001)</td>\n",
       "      <td>Asia/Vladivostok</td>\n",
       "    </tr>\n",
       "    <tr>\n",
       "      <th>3</th>\n",
       "      <td>PKC</td>\n",
       "      <td>{\"en\": \"Yelizovo Airport\", \"ru\": \"Елизово\"}</td>\n",
       "      <td>{\"en\": \"Petropavlovsk\", \"ru\": \"Петропавловск-К...</td>\n",
       "      <td>(158.453994750976562,53.1679000854492188)</td>\n",
       "      <td>Asia/Kamchatka</td>\n",
       "    </tr>\n",
       "    <tr>\n",
       "      <th>4</th>\n",
       "      <td>UUS</td>\n",
       "      <td>{\"en\": \"Yuzhno-Sakhalinsk Airport\", \"ru\": \"Хом...</td>\n",
       "      <td>{\"en\": \"Yuzhno-Sakhalinsk\", \"ru\": \"Южно-Сахали...</td>\n",
       "      <td>(142.718002319335938,46.8886985778808594)</td>\n",
       "      <td>Asia/Sakhalin</td>\n",
       "    </tr>\n",
       "  </tbody>\n",
       "</table>\n",
       "</div>"
      ],
      "text/plain": [
       "  airport_code                                       airport_name  \\\n",
       "0          YKS          {\"en\": \"Yakutsk Airport\", \"ru\": \"Якутск\"}   \n",
       "1          MJZ            {\"en\": \"Mirny Airport\", \"ru\": \"Мирный\"}   \n",
       "2          KHV  {\"en\": \"Khabarovsk-Novy Airport\", \"ru\": \"Хабар...   \n",
       "3          PKC        {\"en\": \"Yelizovo Airport\", \"ru\": \"Елизово\"}   \n",
       "4          UUS  {\"en\": \"Yuzhno-Sakhalinsk Airport\", \"ru\": \"Хом...   \n",
       "\n",
       "                                                city  \\\n",
       "0                  {\"en\": \"Yakutsk\", \"ru\": \"Якутск\"}   \n",
       "1                   {\"en\": \"Mirnyj\", \"ru\": \"Мирный\"}   \n",
       "2            {\"en\": \"Khabarovsk\", \"ru\": \"Хабаровск\"}   \n",
       "3  {\"en\": \"Petropavlovsk\", \"ru\": \"Петропавловск-К...   \n",
       "4  {\"en\": \"Yuzhno-Sakhalinsk\", \"ru\": \"Южно-Сахали...   \n",
       "\n",
       "                                 coordinates          timezone  \n",
       "0      (129.77099609375,62.0932998657226562)      Asia/Yakutsk  \n",
       "1    (114.03900146484375,62.534698486328125)      Asia/Yakutsk  \n",
       "2      (135.18800354004,48.5279998779300001)  Asia/Vladivostok  \n",
       "3  (158.453994750976562,53.1679000854492188)    Asia/Kamchatka  \n",
       "4  (142.718002319335938,46.8886985778808594)     Asia/Sakhalin  "
      ]
     },
     "execution_count": 11,
     "metadata": {},
     "output_type": "execute_result"
    }
   ],
   "source": [
    "airports_data = pd.read_sql_query(f\"\"\"SELECT * FROM airports_data\"\"\", connection)\n",
    "airports_data.head()"
   ]
  },
  {
   "cell_type": "code",
   "execution_count": 12,
   "id": "4ae1b90a-3095-435f-99af-28efb8851988",
   "metadata": {},
   "outputs": [
    {
     "data": {
      "text/plain": [
       "(104, 5)"
      ]
     },
     "execution_count": 12,
     "metadata": {},
     "output_type": "execute_result"
    }
   ],
   "source": [
    "airports_data.shape"
   ]
  },
  {
   "cell_type": "code",
   "execution_count": 13,
   "id": "b2c8f2fa-a7f2-47a2-b477-883cf9fcff19",
   "metadata": {
    "scrolled": true
   },
   "outputs": [
    {
     "name": "stdout",
     "output_type": "stream",
     "text": [
      "<class 'pandas.core.frame.DataFrame'>\n",
      "RangeIndex: 104 entries, 0 to 103\n",
      "Data columns (total 5 columns):\n",
      " #   Column        Non-Null Count  Dtype \n",
      "---  ------        --------------  ----- \n",
      " 0   airport_code  104 non-null    object\n",
      " 1   airport_name  104 non-null    object\n",
      " 2   city          104 non-null    object\n",
      " 3   coordinates   104 non-null    object\n",
      " 4   timezone      104 non-null    object\n",
      "dtypes: object(5)\n",
      "memory usage: 4.2+ KB\n"
     ]
    }
   ],
   "source": [
    "airports_data.info()"
   ]
  },
  {
   "cell_type": "code",
   "execution_count": 14,
   "id": "7bca668e-6841-4cdc-bfca-7159744a130b",
   "metadata": {
    "scrolled": true
   },
   "outputs": [
    {
     "data": {
      "text/html": [
       "<div>\n",
       "<style scoped>\n",
       "    .dataframe tbody tr th:only-of-type {\n",
       "        vertical-align: middle;\n",
       "    }\n",
       "\n",
       "    .dataframe tbody tr th {\n",
       "        vertical-align: top;\n",
       "    }\n",
       "\n",
       "    .dataframe thead th {\n",
       "        text-align: right;\n",
       "    }\n",
       "</style>\n",
       "<table border=\"1\" class=\"dataframe\">\n",
       "  <thead>\n",
       "    <tr style=\"text-align: right;\">\n",
       "      <th></th>\n",
       "      <th>airport_code</th>\n",
       "      <th>airport_name</th>\n",
       "      <th>city</th>\n",
       "      <th>coordinates</th>\n",
       "      <th>timezone</th>\n",
       "    </tr>\n",
       "  </thead>\n",
       "  <tbody>\n",
       "    <tr>\n",
       "      <th>count</th>\n",
       "      <td>104</td>\n",
       "      <td>104</td>\n",
       "      <td>104</td>\n",
       "      <td>104</td>\n",
       "      <td>104</td>\n",
       "    </tr>\n",
       "    <tr>\n",
       "      <th>unique</th>\n",
       "      <td>104</td>\n",
       "      <td>104</td>\n",
       "      <td>101</td>\n",
       "      <td>104</td>\n",
       "      <td>17</td>\n",
       "    </tr>\n",
       "    <tr>\n",
       "      <th>top</th>\n",
       "      <td>YKS</td>\n",
       "      <td>{\"en\": \"Yakutsk Airport\", \"ru\": \"Якутск\"}</td>\n",
       "      <td>{\"en\": \"Moscow\", \"ru\": \"Москва\"}</td>\n",
       "      <td>(129.77099609375,62.0932998657226562)</td>\n",
       "      <td>Europe/Moscow</td>\n",
       "    </tr>\n",
       "    <tr>\n",
       "      <th>freq</th>\n",
       "      <td>1</td>\n",
       "      <td>1</td>\n",
       "      <td>3</td>\n",
       "      <td>1</td>\n",
       "      <td>44</td>\n",
       "    </tr>\n",
       "  </tbody>\n",
       "</table>\n",
       "</div>"
      ],
      "text/plain": [
       "       airport_code                               airport_name  \\\n",
       "count           104                                        104   \n",
       "unique          104                                        104   \n",
       "top             YKS  {\"en\": \"Yakutsk Airport\", \"ru\": \"Якутск\"}   \n",
       "freq              1                                          1   \n",
       "\n",
       "                                    city  \\\n",
       "count                                104   \n",
       "unique                               101   \n",
       "top     {\"en\": \"Moscow\", \"ru\": \"Москва\"}   \n",
       "freq                                   3   \n",
       "\n",
       "                                  coordinates       timezone  \n",
       "count                                     104            104  \n",
       "unique                                    104             17  \n",
       "top     (129.77099609375,62.0932998657226562)  Europe/Moscow  \n",
       "freq                                        1             44  "
      ]
     },
     "execution_count": 14,
     "metadata": {},
     "output_type": "execute_result"
    }
   ],
   "source": [
    "airports_data.describe()\n",
    "airports_data.describe(include='all')"
   ]
  },
  {
   "cell_type": "code",
   "execution_count": 15,
   "id": "8a7cedae-ca29-49e7-911c-5747bb09f34a",
   "metadata": {},
   "outputs": [
    {
     "data": {
      "text/plain": [
       "Index(['airport_code', 'airport_name', 'city', 'coordinates', 'timezone'], dtype='object')"
      ]
     },
     "execution_count": 15,
     "metadata": {},
     "output_type": "execute_result"
    }
   ],
   "source": [
    "airports_data.columns"
   ]
  },
  {
   "cell_type": "markdown",
   "id": "88d30653-8847-4524-ad00-d77278103292",
   "metadata": {},
   "source": [
    "## 3. boarding_passes:"
   ]
  },
  {
   "cell_type": "code",
   "execution_count": 17,
   "id": "6ef2eab5-1102-4109-bf2f-6a632a3e31e2",
   "metadata": {
    "scrolled": true
   },
   "outputs": [
    {
     "data": {
      "text/html": [
       "<div>\n",
       "<style scoped>\n",
       "    .dataframe tbody tr th:only-of-type {\n",
       "        vertical-align: middle;\n",
       "    }\n",
       "\n",
       "    .dataframe tbody tr th {\n",
       "        vertical-align: top;\n",
       "    }\n",
       "\n",
       "    .dataframe thead th {\n",
       "        text-align: right;\n",
       "    }\n",
       "</style>\n",
       "<table border=\"1\" class=\"dataframe\">\n",
       "  <thead>\n",
       "    <tr style=\"text-align: right;\">\n",
       "      <th></th>\n",
       "      <th>airport_code</th>\n",
       "      <th>airport_name</th>\n",
       "      <th>city</th>\n",
       "      <th>coordinates</th>\n",
       "      <th>timezone</th>\n",
       "    </tr>\n",
       "  </thead>\n",
       "  <tbody>\n",
       "    <tr>\n",
       "      <th>0</th>\n",
       "      <td>YKS</td>\n",
       "      <td>{\"en\": \"Yakutsk Airport\", \"ru\": \"Якутск\"}</td>\n",
       "      <td>{\"en\": \"Yakutsk\", \"ru\": \"Якутск\"}</td>\n",
       "      <td>(129.77099609375,62.0932998657226562)</td>\n",
       "      <td>Asia/Yakutsk</td>\n",
       "    </tr>\n",
       "    <tr>\n",
       "      <th>1</th>\n",
       "      <td>MJZ</td>\n",
       "      <td>{\"en\": \"Mirny Airport\", \"ru\": \"Мирный\"}</td>\n",
       "      <td>{\"en\": \"Mirnyj\", \"ru\": \"Мирный\"}</td>\n",
       "      <td>(114.03900146484375,62.534698486328125)</td>\n",
       "      <td>Asia/Yakutsk</td>\n",
       "    </tr>\n",
       "    <tr>\n",
       "      <th>2</th>\n",
       "      <td>KHV</td>\n",
       "      <td>{\"en\": \"Khabarovsk-Novy Airport\", \"ru\": \"Хабар...</td>\n",
       "      <td>{\"en\": \"Khabarovsk\", \"ru\": \"Хабаровск\"}</td>\n",
       "      <td>(135.18800354004,48.5279998779300001)</td>\n",
       "      <td>Asia/Vladivostok</td>\n",
       "    </tr>\n",
       "    <tr>\n",
       "      <th>3</th>\n",
       "      <td>PKC</td>\n",
       "      <td>{\"en\": \"Yelizovo Airport\", \"ru\": \"Елизово\"}</td>\n",
       "      <td>{\"en\": \"Petropavlovsk\", \"ru\": \"Петропавловск-К...</td>\n",
       "      <td>(158.453994750976562,53.1679000854492188)</td>\n",
       "      <td>Asia/Kamchatka</td>\n",
       "    </tr>\n",
       "    <tr>\n",
       "      <th>4</th>\n",
       "      <td>UUS</td>\n",
       "      <td>{\"en\": \"Yuzhno-Sakhalinsk Airport\", \"ru\": \"Хом...</td>\n",
       "      <td>{\"en\": \"Yuzhno-Sakhalinsk\", \"ru\": \"Южно-Сахали...</td>\n",
       "      <td>(142.718002319335938,46.8886985778808594)</td>\n",
       "      <td>Asia/Sakhalin</td>\n",
       "    </tr>\n",
       "  </tbody>\n",
       "</table>\n",
       "</div>"
      ],
      "text/plain": [
       "  airport_code                                       airport_name  \\\n",
       "0          YKS          {\"en\": \"Yakutsk Airport\", \"ru\": \"Якутск\"}   \n",
       "1          MJZ            {\"en\": \"Mirny Airport\", \"ru\": \"Мирный\"}   \n",
       "2          KHV  {\"en\": \"Khabarovsk-Novy Airport\", \"ru\": \"Хабар...   \n",
       "3          PKC        {\"en\": \"Yelizovo Airport\", \"ru\": \"Елизово\"}   \n",
       "4          UUS  {\"en\": \"Yuzhno-Sakhalinsk Airport\", \"ru\": \"Хом...   \n",
       "\n",
       "                                                city  \\\n",
       "0                  {\"en\": \"Yakutsk\", \"ru\": \"Якутск\"}   \n",
       "1                   {\"en\": \"Mirnyj\", \"ru\": \"Мирный\"}   \n",
       "2            {\"en\": \"Khabarovsk\", \"ru\": \"Хабаровск\"}   \n",
       "3  {\"en\": \"Petropavlovsk\", \"ru\": \"Петропавловск-К...   \n",
       "4  {\"en\": \"Yuzhno-Sakhalinsk\", \"ru\": \"Южно-Сахали...   \n",
       "\n",
       "                                 coordinates          timezone  \n",
       "0      (129.77099609375,62.0932998657226562)      Asia/Yakutsk  \n",
       "1    (114.03900146484375,62.534698486328125)      Asia/Yakutsk  \n",
       "2      (135.18800354004,48.5279998779300001)  Asia/Vladivostok  \n",
       "3  (158.453994750976562,53.1679000854492188)    Asia/Kamchatka  \n",
       "4  (142.718002319335938,46.8886985778808594)     Asia/Sakhalin  "
      ]
     },
     "execution_count": 17,
     "metadata": {},
     "output_type": "execute_result"
    }
   ],
   "source": [
    "boarding_passes = pd.read_sql_query(f\"\"\"SELECT * FROM airports_data\"\"\", connection)\n",
    "boarding_passes.head()"
   ]
  },
  {
   "cell_type": "code",
   "execution_count": 18,
   "id": "bfae3e8e-46f5-4f45-b413-9d299d5a54c8",
   "metadata": {},
   "outputs": [
    {
     "data": {
      "text/plain": [
       "(104, 5)"
      ]
     },
     "execution_count": 18,
     "metadata": {},
     "output_type": "execute_result"
    }
   ],
   "source": [
    "boarding_passes.shape"
   ]
  },
  {
   "cell_type": "code",
   "execution_count": 19,
   "id": "0fb4b73b-2949-4aed-9a02-2f7aa2e39ee5",
   "metadata": {},
   "outputs": [
    {
     "name": "stdout",
     "output_type": "stream",
     "text": [
      "<class 'pandas.core.frame.DataFrame'>\n",
      "RangeIndex: 104 entries, 0 to 103\n",
      "Data columns (total 5 columns):\n",
      " #   Column        Non-Null Count  Dtype \n",
      "---  ------        --------------  ----- \n",
      " 0   airport_code  104 non-null    object\n",
      " 1   airport_name  104 non-null    object\n",
      " 2   city          104 non-null    object\n",
      " 3   coordinates   104 non-null    object\n",
      " 4   timezone      104 non-null    object\n",
      "dtypes: object(5)\n",
      "memory usage: 4.2+ KB\n"
     ]
    }
   ],
   "source": [
    "boarding_passes.info()"
   ]
  },
  {
   "cell_type": "code",
   "execution_count": 20,
   "id": "e3f6c4d5-eb77-47a5-a52b-5a5277845836",
   "metadata": {},
   "outputs": [
    {
     "data": {
      "text/html": [
       "<div>\n",
       "<style scoped>\n",
       "    .dataframe tbody tr th:only-of-type {\n",
       "        vertical-align: middle;\n",
       "    }\n",
       "\n",
       "    .dataframe tbody tr th {\n",
       "        vertical-align: top;\n",
       "    }\n",
       "\n",
       "    .dataframe thead th {\n",
       "        text-align: right;\n",
       "    }\n",
       "</style>\n",
       "<table border=\"1\" class=\"dataframe\">\n",
       "  <thead>\n",
       "    <tr style=\"text-align: right;\">\n",
       "      <th></th>\n",
       "      <th>airport_code</th>\n",
       "      <th>airport_name</th>\n",
       "      <th>city</th>\n",
       "      <th>coordinates</th>\n",
       "      <th>timezone</th>\n",
       "    </tr>\n",
       "  </thead>\n",
       "  <tbody>\n",
       "    <tr>\n",
       "      <th>count</th>\n",
       "      <td>104</td>\n",
       "      <td>104</td>\n",
       "      <td>104</td>\n",
       "      <td>104</td>\n",
       "      <td>104</td>\n",
       "    </tr>\n",
       "    <tr>\n",
       "      <th>unique</th>\n",
       "      <td>104</td>\n",
       "      <td>104</td>\n",
       "      <td>101</td>\n",
       "      <td>104</td>\n",
       "      <td>17</td>\n",
       "    </tr>\n",
       "    <tr>\n",
       "      <th>top</th>\n",
       "      <td>YKS</td>\n",
       "      <td>{\"en\": \"Yakutsk Airport\", \"ru\": \"Якутск\"}</td>\n",
       "      <td>{\"en\": \"Moscow\", \"ru\": \"Москва\"}</td>\n",
       "      <td>(129.77099609375,62.0932998657226562)</td>\n",
       "      <td>Europe/Moscow</td>\n",
       "    </tr>\n",
       "    <tr>\n",
       "      <th>freq</th>\n",
       "      <td>1</td>\n",
       "      <td>1</td>\n",
       "      <td>3</td>\n",
       "      <td>1</td>\n",
       "      <td>44</td>\n",
       "    </tr>\n",
       "  </tbody>\n",
       "</table>\n",
       "</div>"
      ],
      "text/plain": [
       "       airport_code                               airport_name  \\\n",
       "count           104                                        104   \n",
       "unique          104                                        104   \n",
       "top             YKS  {\"en\": \"Yakutsk Airport\", \"ru\": \"Якутск\"}   \n",
       "freq              1                                          1   \n",
       "\n",
       "                                    city  \\\n",
       "count                                104   \n",
       "unique                               101   \n",
       "top     {\"en\": \"Moscow\", \"ru\": \"Москва\"}   \n",
       "freq                                   3   \n",
       "\n",
       "                                  coordinates       timezone  \n",
       "count                                     104            104  \n",
       "unique                                    104             17  \n",
       "top     (129.77099609375,62.0932998657226562)  Europe/Moscow  \n",
       "freq                                        1             44  "
      ]
     },
     "execution_count": 20,
     "metadata": {},
     "output_type": "execute_result"
    }
   ],
   "source": [
    "boarding_passes.describe()\n",
    "boarding_passes.describe(include='all')"
   ]
  },
  {
   "cell_type": "code",
   "execution_count": 21,
   "id": "b68c2cf4-0d7a-4c55-b091-8250ff7abd0f",
   "metadata": {},
   "outputs": [
    {
     "data": {
      "text/plain": [
       "Index(['airport_code', 'airport_name', 'city', 'coordinates', 'timezone'], dtype='object')"
      ]
     },
     "execution_count": 21,
     "metadata": {},
     "output_type": "execute_result"
    }
   ],
   "source": [
    "boarding_passes.columns"
   ]
  },
  {
   "cell_type": "markdown",
   "id": "3c091f37-3e08-4ca4-b72d-ddbfda02b1ae",
   "metadata": {},
   "source": [
    "# 4. bookings:"
   ]
  },
  {
   "cell_type": "code",
   "execution_count": 22,
   "id": "c2faf087-c2c0-441b-960d-3d4879ed270e",
   "metadata": {},
   "outputs": [
    {
     "data": {
      "text/html": [
       "<div>\n",
       "<style scoped>\n",
       "    .dataframe tbody tr th:only-of-type {\n",
       "        vertical-align: middle;\n",
       "    }\n",
       "\n",
       "    .dataframe tbody tr th {\n",
       "        vertical-align: top;\n",
       "    }\n",
       "\n",
       "    .dataframe thead th {\n",
       "        text-align: right;\n",
       "    }\n",
       "</style>\n",
       "<table border=\"1\" class=\"dataframe\">\n",
       "  <thead>\n",
       "    <tr style=\"text-align: right;\">\n",
       "      <th></th>\n",
       "      <th>airport_code</th>\n",
       "      <th>airport_name</th>\n",
       "      <th>city</th>\n",
       "      <th>coordinates</th>\n",
       "      <th>timezone</th>\n",
       "    </tr>\n",
       "  </thead>\n",
       "  <tbody>\n",
       "    <tr>\n",
       "      <th>0</th>\n",
       "      <td>YKS</td>\n",
       "      <td>{\"en\": \"Yakutsk Airport\", \"ru\": \"Якутск\"}</td>\n",
       "      <td>{\"en\": \"Yakutsk\", \"ru\": \"Якутск\"}</td>\n",
       "      <td>(129.77099609375,62.0932998657226562)</td>\n",
       "      <td>Asia/Yakutsk</td>\n",
       "    </tr>\n",
       "    <tr>\n",
       "      <th>1</th>\n",
       "      <td>MJZ</td>\n",
       "      <td>{\"en\": \"Mirny Airport\", \"ru\": \"Мирный\"}</td>\n",
       "      <td>{\"en\": \"Mirnyj\", \"ru\": \"Мирный\"}</td>\n",
       "      <td>(114.03900146484375,62.534698486328125)</td>\n",
       "      <td>Asia/Yakutsk</td>\n",
       "    </tr>\n",
       "    <tr>\n",
       "      <th>2</th>\n",
       "      <td>KHV</td>\n",
       "      <td>{\"en\": \"Khabarovsk-Novy Airport\", \"ru\": \"Хабар...</td>\n",
       "      <td>{\"en\": \"Khabarovsk\", \"ru\": \"Хабаровск\"}</td>\n",
       "      <td>(135.18800354004,48.5279998779300001)</td>\n",
       "      <td>Asia/Vladivostok</td>\n",
       "    </tr>\n",
       "    <tr>\n",
       "      <th>3</th>\n",
       "      <td>PKC</td>\n",
       "      <td>{\"en\": \"Yelizovo Airport\", \"ru\": \"Елизово\"}</td>\n",
       "      <td>{\"en\": \"Petropavlovsk\", \"ru\": \"Петропавловск-К...</td>\n",
       "      <td>(158.453994750976562,53.1679000854492188)</td>\n",
       "      <td>Asia/Kamchatka</td>\n",
       "    </tr>\n",
       "    <tr>\n",
       "      <th>4</th>\n",
       "      <td>UUS</td>\n",
       "      <td>{\"en\": \"Yuzhno-Sakhalinsk Airport\", \"ru\": \"Хом...</td>\n",
       "      <td>{\"en\": \"Yuzhno-Sakhalinsk\", \"ru\": \"Южно-Сахали...</td>\n",
       "      <td>(142.718002319335938,46.8886985778808594)</td>\n",
       "      <td>Asia/Sakhalin</td>\n",
       "    </tr>\n",
       "  </tbody>\n",
       "</table>\n",
       "</div>"
      ],
      "text/plain": [
       "  airport_code                                       airport_name  \\\n",
       "0          YKS          {\"en\": \"Yakutsk Airport\", \"ru\": \"Якутск\"}   \n",
       "1          MJZ            {\"en\": \"Mirny Airport\", \"ru\": \"Мирный\"}   \n",
       "2          KHV  {\"en\": \"Khabarovsk-Novy Airport\", \"ru\": \"Хабар...   \n",
       "3          PKC        {\"en\": \"Yelizovo Airport\", \"ru\": \"Елизово\"}   \n",
       "4          UUS  {\"en\": \"Yuzhno-Sakhalinsk Airport\", \"ru\": \"Хом...   \n",
       "\n",
       "                                                city  \\\n",
       "0                  {\"en\": \"Yakutsk\", \"ru\": \"Якутск\"}   \n",
       "1                   {\"en\": \"Mirnyj\", \"ru\": \"Мирный\"}   \n",
       "2            {\"en\": \"Khabarovsk\", \"ru\": \"Хабаровск\"}   \n",
       "3  {\"en\": \"Petropavlovsk\", \"ru\": \"Петропавловск-К...   \n",
       "4  {\"en\": \"Yuzhno-Sakhalinsk\", \"ru\": \"Южно-Сахали...   \n",
       "\n",
       "                                 coordinates          timezone  \n",
       "0      (129.77099609375,62.0932998657226562)      Asia/Yakutsk  \n",
       "1    (114.03900146484375,62.534698486328125)      Asia/Yakutsk  \n",
       "2      (135.18800354004,48.5279998779300001)  Asia/Vladivostok  \n",
       "3  (158.453994750976562,53.1679000854492188)    Asia/Kamchatka  \n",
       "4  (142.718002319335938,46.8886985778808594)     Asia/Sakhalin  "
      ]
     },
     "execution_count": 22,
     "metadata": {},
     "output_type": "execute_result"
    }
   ],
   "source": [
    "bookings = pd.read_sql_query(f\"\"\"SELECT * FROM airports_data\"\"\", connection)\n",
    "bookings.head()"
   ]
  },
  {
   "cell_type": "code",
   "execution_count": 23,
   "id": "73c7d1e0-3698-4eae-8b23-543f27097396",
   "metadata": {},
   "outputs": [
    {
     "data": {
      "text/plain": [
       "(104, 5)"
      ]
     },
     "execution_count": 23,
     "metadata": {},
     "output_type": "execute_result"
    }
   ],
   "source": [
    "bookings.shape"
   ]
  },
  {
   "cell_type": "code",
   "execution_count": 24,
   "id": "5871aa4c-4f21-4f10-abfb-220b83a801ea",
   "metadata": {},
   "outputs": [
    {
     "name": "stdout",
     "output_type": "stream",
     "text": [
      "<class 'pandas.core.frame.DataFrame'>\n",
      "RangeIndex: 104 entries, 0 to 103\n",
      "Data columns (total 5 columns):\n",
      " #   Column        Non-Null Count  Dtype \n",
      "---  ------        --------------  ----- \n",
      " 0   airport_code  104 non-null    object\n",
      " 1   airport_name  104 non-null    object\n",
      " 2   city          104 non-null    object\n",
      " 3   coordinates   104 non-null    object\n",
      " 4   timezone      104 non-null    object\n",
      "dtypes: object(5)\n",
      "memory usage: 4.2+ KB\n"
     ]
    }
   ],
   "source": [
    "bookings.info()"
   ]
  },
  {
   "cell_type": "code",
   "execution_count": 25,
   "id": "c311c149-1b54-4208-9a5e-4b5f69c600d9",
   "metadata": {
    "scrolled": true
   },
   "outputs": [
    {
     "data": {
      "text/html": [
       "<div>\n",
       "<style scoped>\n",
       "    .dataframe tbody tr th:only-of-type {\n",
       "        vertical-align: middle;\n",
       "    }\n",
       "\n",
       "    .dataframe tbody tr th {\n",
       "        vertical-align: top;\n",
       "    }\n",
       "\n",
       "    .dataframe thead th {\n",
       "        text-align: right;\n",
       "    }\n",
       "</style>\n",
       "<table border=\"1\" class=\"dataframe\">\n",
       "  <thead>\n",
       "    <tr style=\"text-align: right;\">\n",
       "      <th></th>\n",
       "      <th>airport_code</th>\n",
       "      <th>airport_name</th>\n",
       "      <th>city</th>\n",
       "      <th>coordinates</th>\n",
       "      <th>timezone</th>\n",
       "    </tr>\n",
       "  </thead>\n",
       "  <tbody>\n",
       "    <tr>\n",
       "      <th>count</th>\n",
       "      <td>104</td>\n",
       "      <td>104</td>\n",
       "      <td>104</td>\n",
       "      <td>104</td>\n",
       "      <td>104</td>\n",
       "    </tr>\n",
       "    <tr>\n",
       "      <th>unique</th>\n",
       "      <td>104</td>\n",
       "      <td>104</td>\n",
       "      <td>101</td>\n",
       "      <td>104</td>\n",
       "      <td>17</td>\n",
       "    </tr>\n",
       "    <tr>\n",
       "      <th>top</th>\n",
       "      <td>YKS</td>\n",
       "      <td>{\"en\": \"Yakutsk Airport\", \"ru\": \"Якутск\"}</td>\n",
       "      <td>{\"en\": \"Moscow\", \"ru\": \"Москва\"}</td>\n",
       "      <td>(129.77099609375,62.0932998657226562)</td>\n",
       "      <td>Europe/Moscow</td>\n",
       "    </tr>\n",
       "    <tr>\n",
       "      <th>freq</th>\n",
       "      <td>1</td>\n",
       "      <td>1</td>\n",
       "      <td>3</td>\n",
       "      <td>1</td>\n",
       "      <td>44</td>\n",
       "    </tr>\n",
       "  </tbody>\n",
       "</table>\n",
       "</div>"
      ],
      "text/plain": [
       "       airport_code                               airport_name  \\\n",
       "count           104                                        104   \n",
       "unique          104                                        104   \n",
       "top             YKS  {\"en\": \"Yakutsk Airport\", \"ru\": \"Якутск\"}   \n",
       "freq              1                                          1   \n",
       "\n",
       "                                    city  \\\n",
       "count                                104   \n",
       "unique                               101   \n",
       "top     {\"en\": \"Moscow\", \"ru\": \"Москва\"}   \n",
       "freq                                   3   \n",
       "\n",
       "                                  coordinates       timezone  \n",
       "count                                     104            104  \n",
       "unique                                    104             17  \n",
       "top     (129.77099609375,62.0932998657226562)  Europe/Moscow  \n",
       "freq                                        1             44  "
      ]
     },
     "execution_count": 25,
     "metadata": {},
     "output_type": "execute_result"
    }
   ],
   "source": [
    "bookings.describe()\n",
    "bookings.describe(include='all')"
   ]
  },
  {
   "cell_type": "code",
   "execution_count": 26,
   "id": "b9770ddb-74f7-4aed-87d5-276c0545b092",
   "metadata": {},
   "outputs": [
    {
     "data": {
      "text/plain": [
       "Index(['airport_code', 'airport_name', 'city', 'coordinates', 'timezone'], dtype='object')"
      ]
     },
     "execution_count": 26,
     "metadata": {},
     "output_type": "execute_result"
    }
   ],
   "source": [
    "bookings.columns"
   ]
  },
  {
   "cell_type": "markdown",
   "id": "8761aeb7-a3f2-48dd-ba35-7f9621cf1af7",
   "metadata": {},
   "source": [
    "## 5. flights: "
   ]
  },
  {
   "cell_type": "code",
   "execution_count": 27,
   "id": "01e5ed7b-bf40-405b-a92a-6ac16be9a984",
   "metadata": {
    "scrolled": true
   },
   "outputs": [
    {
     "data": {
      "text/html": [
       "<div>\n",
       "<style scoped>\n",
       "    .dataframe tbody tr th:only-of-type {\n",
       "        vertical-align: middle;\n",
       "    }\n",
       "\n",
       "    .dataframe tbody tr th {\n",
       "        vertical-align: top;\n",
       "    }\n",
       "\n",
       "    .dataframe thead th {\n",
       "        text-align: right;\n",
       "    }\n",
       "</style>\n",
       "<table border=\"1\" class=\"dataframe\">\n",
       "  <thead>\n",
       "    <tr style=\"text-align: right;\">\n",
       "      <th></th>\n",
       "      <th>airport_code</th>\n",
       "      <th>airport_name</th>\n",
       "      <th>city</th>\n",
       "      <th>coordinates</th>\n",
       "      <th>timezone</th>\n",
       "    </tr>\n",
       "  </thead>\n",
       "  <tbody>\n",
       "    <tr>\n",
       "      <th>0</th>\n",
       "      <td>YKS</td>\n",
       "      <td>{\"en\": \"Yakutsk Airport\", \"ru\": \"Якутск\"}</td>\n",
       "      <td>{\"en\": \"Yakutsk\", \"ru\": \"Якутск\"}</td>\n",
       "      <td>(129.77099609375,62.0932998657226562)</td>\n",
       "      <td>Asia/Yakutsk</td>\n",
       "    </tr>\n",
       "    <tr>\n",
       "      <th>1</th>\n",
       "      <td>MJZ</td>\n",
       "      <td>{\"en\": \"Mirny Airport\", \"ru\": \"Мирный\"}</td>\n",
       "      <td>{\"en\": \"Mirnyj\", \"ru\": \"Мирный\"}</td>\n",
       "      <td>(114.03900146484375,62.534698486328125)</td>\n",
       "      <td>Asia/Yakutsk</td>\n",
       "    </tr>\n",
       "    <tr>\n",
       "      <th>2</th>\n",
       "      <td>KHV</td>\n",
       "      <td>{\"en\": \"Khabarovsk-Novy Airport\", \"ru\": \"Хабар...</td>\n",
       "      <td>{\"en\": \"Khabarovsk\", \"ru\": \"Хабаровск\"}</td>\n",
       "      <td>(135.18800354004,48.5279998779300001)</td>\n",
       "      <td>Asia/Vladivostok</td>\n",
       "    </tr>\n",
       "    <tr>\n",
       "      <th>3</th>\n",
       "      <td>PKC</td>\n",
       "      <td>{\"en\": \"Yelizovo Airport\", \"ru\": \"Елизово\"}</td>\n",
       "      <td>{\"en\": \"Petropavlovsk\", \"ru\": \"Петропавловск-К...</td>\n",
       "      <td>(158.453994750976562,53.1679000854492188)</td>\n",
       "      <td>Asia/Kamchatka</td>\n",
       "    </tr>\n",
       "    <tr>\n",
       "      <th>4</th>\n",
       "      <td>UUS</td>\n",
       "      <td>{\"en\": \"Yuzhno-Sakhalinsk Airport\", \"ru\": \"Хом...</td>\n",
       "      <td>{\"en\": \"Yuzhno-Sakhalinsk\", \"ru\": \"Южно-Сахали...</td>\n",
       "      <td>(142.718002319335938,46.8886985778808594)</td>\n",
       "      <td>Asia/Sakhalin</td>\n",
       "    </tr>\n",
       "  </tbody>\n",
       "</table>\n",
       "</div>"
      ],
      "text/plain": [
       "  airport_code                                       airport_name  \\\n",
       "0          YKS          {\"en\": \"Yakutsk Airport\", \"ru\": \"Якутск\"}   \n",
       "1          MJZ            {\"en\": \"Mirny Airport\", \"ru\": \"Мирный\"}   \n",
       "2          KHV  {\"en\": \"Khabarovsk-Novy Airport\", \"ru\": \"Хабар...   \n",
       "3          PKC        {\"en\": \"Yelizovo Airport\", \"ru\": \"Елизово\"}   \n",
       "4          UUS  {\"en\": \"Yuzhno-Sakhalinsk Airport\", \"ru\": \"Хом...   \n",
       "\n",
       "                                                city  \\\n",
       "0                  {\"en\": \"Yakutsk\", \"ru\": \"Якутск\"}   \n",
       "1                   {\"en\": \"Mirnyj\", \"ru\": \"Мирный\"}   \n",
       "2            {\"en\": \"Khabarovsk\", \"ru\": \"Хабаровск\"}   \n",
       "3  {\"en\": \"Petropavlovsk\", \"ru\": \"Петропавловск-К...   \n",
       "4  {\"en\": \"Yuzhno-Sakhalinsk\", \"ru\": \"Южно-Сахали...   \n",
       "\n",
       "                                 coordinates          timezone  \n",
       "0      (129.77099609375,62.0932998657226562)      Asia/Yakutsk  \n",
       "1    (114.03900146484375,62.534698486328125)      Asia/Yakutsk  \n",
       "2      (135.18800354004,48.5279998779300001)  Asia/Vladivostok  \n",
       "3  (158.453994750976562,53.1679000854492188)    Asia/Kamchatka  \n",
       "4  (142.718002319335938,46.8886985778808594)     Asia/Sakhalin  "
      ]
     },
     "execution_count": 27,
     "metadata": {},
     "output_type": "execute_result"
    }
   ],
   "source": [
    "flights = pd.read_sql_query(f\"\"\"SELECT * FROM airports_data\"\"\", connection)\n",
    "flights.head()"
   ]
  },
  {
   "cell_type": "code",
   "execution_count": 28,
   "id": "02253660-9562-4f2b-91eb-0d2a9a3a2288",
   "metadata": {},
   "outputs": [
    {
     "data": {
      "text/plain": [
       "(104, 5)"
      ]
     },
     "execution_count": 28,
     "metadata": {},
     "output_type": "execute_result"
    }
   ],
   "source": [
    "flights.shape"
   ]
  },
  {
   "cell_type": "code",
   "execution_count": 29,
   "id": "920e0463-f2a2-4cc0-9e5e-aea97a35b3e0",
   "metadata": {
    "scrolled": true
   },
   "outputs": [
    {
     "name": "stdout",
     "output_type": "stream",
     "text": [
      "<class 'pandas.core.frame.DataFrame'>\n",
      "RangeIndex: 104 entries, 0 to 103\n",
      "Data columns (total 5 columns):\n",
      " #   Column        Non-Null Count  Dtype \n",
      "---  ------        --------------  ----- \n",
      " 0   airport_code  104 non-null    object\n",
      " 1   airport_name  104 non-null    object\n",
      " 2   city          104 non-null    object\n",
      " 3   coordinates   104 non-null    object\n",
      " 4   timezone      104 non-null    object\n",
      "dtypes: object(5)\n",
      "memory usage: 4.2+ KB\n"
     ]
    }
   ],
   "source": [
    "flights.info()"
   ]
  },
  {
   "cell_type": "code",
   "execution_count": 30,
   "id": "ea947d67-6fb8-4e84-85f9-4bc0a7a41391",
   "metadata": {
    "scrolled": true
   },
   "outputs": [
    {
     "data": {
      "text/html": [
       "<div>\n",
       "<style scoped>\n",
       "    .dataframe tbody tr th:only-of-type {\n",
       "        vertical-align: middle;\n",
       "    }\n",
       "\n",
       "    .dataframe tbody tr th {\n",
       "        vertical-align: top;\n",
       "    }\n",
       "\n",
       "    .dataframe thead th {\n",
       "        text-align: right;\n",
       "    }\n",
       "</style>\n",
       "<table border=\"1\" class=\"dataframe\">\n",
       "  <thead>\n",
       "    <tr style=\"text-align: right;\">\n",
       "      <th></th>\n",
       "      <th>airport_code</th>\n",
       "      <th>airport_name</th>\n",
       "      <th>city</th>\n",
       "      <th>coordinates</th>\n",
       "      <th>timezone</th>\n",
       "    </tr>\n",
       "  </thead>\n",
       "  <tbody>\n",
       "    <tr>\n",
       "      <th>count</th>\n",
       "      <td>104</td>\n",
       "      <td>104</td>\n",
       "      <td>104</td>\n",
       "      <td>104</td>\n",
       "      <td>104</td>\n",
       "    </tr>\n",
       "    <tr>\n",
       "      <th>unique</th>\n",
       "      <td>104</td>\n",
       "      <td>104</td>\n",
       "      <td>101</td>\n",
       "      <td>104</td>\n",
       "      <td>17</td>\n",
       "    </tr>\n",
       "    <tr>\n",
       "      <th>top</th>\n",
       "      <td>YKS</td>\n",
       "      <td>{\"en\": \"Yakutsk Airport\", \"ru\": \"Якутск\"}</td>\n",
       "      <td>{\"en\": \"Moscow\", \"ru\": \"Москва\"}</td>\n",
       "      <td>(129.77099609375,62.0932998657226562)</td>\n",
       "      <td>Europe/Moscow</td>\n",
       "    </tr>\n",
       "    <tr>\n",
       "      <th>freq</th>\n",
       "      <td>1</td>\n",
       "      <td>1</td>\n",
       "      <td>3</td>\n",
       "      <td>1</td>\n",
       "      <td>44</td>\n",
       "    </tr>\n",
       "  </tbody>\n",
       "</table>\n",
       "</div>"
      ],
      "text/plain": [
       "       airport_code                               airport_name  \\\n",
       "count           104                                        104   \n",
       "unique          104                                        104   \n",
       "top             YKS  {\"en\": \"Yakutsk Airport\", \"ru\": \"Якутск\"}   \n",
       "freq              1                                          1   \n",
       "\n",
       "                                    city  \\\n",
       "count                                104   \n",
       "unique                               101   \n",
       "top     {\"en\": \"Moscow\", \"ru\": \"Москва\"}   \n",
       "freq                                   3   \n",
       "\n",
       "                                  coordinates       timezone  \n",
       "count                                     104            104  \n",
       "unique                                    104             17  \n",
       "top     (129.77099609375,62.0932998657226562)  Europe/Moscow  \n",
       "freq                                        1             44  "
      ]
     },
     "execution_count": 30,
     "metadata": {},
     "output_type": "execute_result"
    }
   ],
   "source": [
    "flights.describe()\n",
    "flights.describe(include='all')"
   ]
  },
  {
   "cell_type": "code",
   "execution_count": 31,
   "id": "48a91eac-6099-4df2-8ad6-4dc0bc8cc386",
   "metadata": {},
   "outputs": [
    {
     "data": {
      "text/plain": [
       "Index(['airport_code', 'airport_name', 'city', 'coordinates', 'timezone'], dtype='object')"
      ]
     },
     "execution_count": 31,
     "metadata": {},
     "output_type": "execute_result"
    }
   ],
   "source": [
    "flights.columns"
   ]
  },
  {
   "cell_type": "markdown",
   "id": "4bad0d10-c449-432a-a9ff-301ef0608931",
   "metadata": {},
   "source": [
    "## 6. seats:"
   ]
  },
  {
   "cell_type": "code",
   "execution_count": 32,
   "id": "4c713d45-f6ed-4267-9079-76abad0227c0",
   "metadata": {},
   "outputs": [
    {
     "data": {
      "text/html": [
       "<div>\n",
       "<style scoped>\n",
       "    .dataframe tbody tr th:only-of-type {\n",
       "        vertical-align: middle;\n",
       "    }\n",
       "\n",
       "    .dataframe tbody tr th {\n",
       "        vertical-align: top;\n",
       "    }\n",
       "\n",
       "    .dataframe thead th {\n",
       "        text-align: right;\n",
       "    }\n",
       "</style>\n",
       "<table border=\"1\" class=\"dataframe\">\n",
       "  <thead>\n",
       "    <tr style=\"text-align: right;\">\n",
       "      <th></th>\n",
       "      <th>airport_code</th>\n",
       "      <th>airport_name</th>\n",
       "      <th>city</th>\n",
       "      <th>coordinates</th>\n",
       "      <th>timezone</th>\n",
       "    </tr>\n",
       "  </thead>\n",
       "  <tbody>\n",
       "    <tr>\n",
       "      <th>0</th>\n",
       "      <td>YKS</td>\n",
       "      <td>{\"en\": \"Yakutsk Airport\", \"ru\": \"Якутск\"}</td>\n",
       "      <td>{\"en\": \"Yakutsk\", \"ru\": \"Якутск\"}</td>\n",
       "      <td>(129.77099609375,62.0932998657226562)</td>\n",
       "      <td>Asia/Yakutsk</td>\n",
       "    </tr>\n",
       "    <tr>\n",
       "      <th>1</th>\n",
       "      <td>MJZ</td>\n",
       "      <td>{\"en\": \"Mirny Airport\", \"ru\": \"Мирный\"}</td>\n",
       "      <td>{\"en\": \"Mirnyj\", \"ru\": \"Мирный\"}</td>\n",
       "      <td>(114.03900146484375,62.534698486328125)</td>\n",
       "      <td>Asia/Yakutsk</td>\n",
       "    </tr>\n",
       "    <tr>\n",
       "      <th>2</th>\n",
       "      <td>KHV</td>\n",
       "      <td>{\"en\": \"Khabarovsk-Novy Airport\", \"ru\": \"Хабар...</td>\n",
       "      <td>{\"en\": \"Khabarovsk\", \"ru\": \"Хабаровск\"}</td>\n",
       "      <td>(135.18800354004,48.5279998779300001)</td>\n",
       "      <td>Asia/Vladivostok</td>\n",
       "    </tr>\n",
       "    <tr>\n",
       "      <th>3</th>\n",
       "      <td>PKC</td>\n",
       "      <td>{\"en\": \"Yelizovo Airport\", \"ru\": \"Елизово\"}</td>\n",
       "      <td>{\"en\": \"Petropavlovsk\", \"ru\": \"Петропавловск-К...</td>\n",
       "      <td>(158.453994750976562,53.1679000854492188)</td>\n",
       "      <td>Asia/Kamchatka</td>\n",
       "    </tr>\n",
       "    <tr>\n",
       "      <th>4</th>\n",
       "      <td>UUS</td>\n",
       "      <td>{\"en\": \"Yuzhno-Sakhalinsk Airport\", \"ru\": \"Хом...</td>\n",
       "      <td>{\"en\": \"Yuzhno-Sakhalinsk\", \"ru\": \"Южно-Сахали...</td>\n",
       "      <td>(142.718002319335938,46.8886985778808594)</td>\n",
       "      <td>Asia/Sakhalin</td>\n",
       "    </tr>\n",
       "  </tbody>\n",
       "</table>\n",
       "</div>"
      ],
      "text/plain": [
       "  airport_code                                       airport_name  \\\n",
       "0          YKS          {\"en\": \"Yakutsk Airport\", \"ru\": \"Якутск\"}   \n",
       "1          MJZ            {\"en\": \"Mirny Airport\", \"ru\": \"Мирный\"}   \n",
       "2          KHV  {\"en\": \"Khabarovsk-Novy Airport\", \"ru\": \"Хабар...   \n",
       "3          PKC        {\"en\": \"Yelizovo Airport\", \"ru\": \"Елизово\"}   \n",
       "4          UUS  {\"en\": \"Yuzhno-Sakhalinsk Airport\", \"ru\": \"Хом...   \n",
       "\n",
       "                                                city  \\\n",
       "0                  {\"en\": \"Yakutsk\", \"ru\": \"Якутск\"}   \n",
       "1                   {\"en\": \"Mirnyj\", \"ru\": \"Мирный\"}   \n",
       "2            {\"en\": \"Khabarovsk\", \"ru\": \"Хабаровск\"}   \n",
       "3  {\"en\": \"Petropavlovsk\", \"ru\": \"Петропавловск-К...   \n",
       "4  {\"en\": \"Yuzhno-Sakhalinsk\", \"ru\": \"Южно-Сахали...   \n",
       "\n",
       "                                 coordinates          timezone  \n",
       "0      (129.77099609375,62.0932998657226562)      Asia/Yakutsk  \n",
       "1    (114.03900146484375,62.534698486328125)      Asia/Yakutsk  \n",
       "2      (135.18800354004,48.5279998779300001)  Asia/Vladivostok  \n",
       "3  (158.453994750976562,53.1679000854492188)    Asia/Kamchatka  \n",
       "4  (142.718002319335938,46.8886985778808594)     Asia/Sakhalin  "
      ]
     },
     "execution_count": 32,
     "metadata": {},
     "output_type": "execute_result"
    }
   ],
   "source": [
    "seats = pd.read_sql_query(f\"\"\"SELECT * FROM airports_data\"\"\", connection)\n",
    "seats.head()"
   ]
  },
  {
   "cell_type": "code",
   "execution_count": 33,
   "id": "fb3751b2-7da3-4575-8e14-030e1881687f",
   "metadata": {},
   "outputs": [
    {
     "data": {
      "text/plain": [
       "(104, 5)"
      ]
     },
     "execution_count": 33,
     "metadata": {},
     "output_type": "execute_result"
    }
   ],
   "source": [
    "seats.shape"
   ]
  },
  {
   "cell_type": "code",
   "execution_count": 34,
   "id": "da11676d-dcbb-4890-8ec9-cd0cd46e0a76",
   "metadata": {
    "scrolled": true
   },
   "outputs": [
    {
     "name": "stdout",
     "output_type": "stream",
     "text": [
      "<class 'pandas.core.frame.DataFrame'>\n",
      "RangeIndex: 104 entries, 0 to 103\n",
      "Data columns (total 5 columns):\n",
      " #   Column        Non-Null Count  Dtype \n",
      "---  ------        --------------  ----- \n",
      " 0   airport_code  104 non-null    object\n",
      " 1   airport_name  104 non-null    object\n",
      " 2   city          104 non-null    object\n",
      " 3   coordinates   104 non-null    object\n",
      " 4   timezone      104 non-null    object\n",
      "dtypes: object(5)\n",
      "memory usage: 4.2+ KB\n"
     ]
    }
   ],
   "source": [
    "seats.info()"
   ]
  },
  {
   "cell_type": "code",
   "execution_count": 35,
   "id": "d74119e6-ebf4-49cd-a843-fad6ee1188e4",
   "metadata": {
    "scrolled": true
   },
   "outputs": [
    {
     "data": {
      "text/html": [
       "<div>\n",
       "<style scoped>\n",
       "    .dataframe tbody tr th:only-of-type {\n",
       "        vertical-align: middle;\n",
       "    }\n",
       "\n",
       "    .dataframe tbody tr th {\n",
       "        vertical-align: top;\n",
       "    }\n",
       "\n",
       "    .dataframe thead th {\n",
       "        text-align: right;\n",
       "    }\n",
       "</style>\n",
       "<table border=\"1\" class=\"dataframe\">\n",
       "  <thead>\n",
       "    <tr style=\"text-align: right;\">\n",
       "      <th></th>\n",
       "      <th>airport_code</th>\n",
       "      <th>airport_name</th>\n",
       "      <th>city</th>\n",
       "      <th>coordinates</th>\n",
       "      <th>timezone</th>\n",
       "    </tr>\n",
       "  </thead>\n",
       "  <tbody>\n",
       "    <tr>\n",
       "      <th>count</th>\n",
       "      <td>104</td>\n",
       "      <td>104</td>\n",
       "      <td>104</td>\n",
       "      <td>104</td>\n",
       "      <td>104</td>\n",
       "    </tr>\n",
       "    <tr>\n",
       "      <th>unique</th>\n",
       "      <td>104</td>\n",
       "      <td>104</td>\n",
       "      <td>101</td>\n",
       "      <td>104</td>\n",
       "      <td>17</td>\n",
       "    </tr>\n",
       "    <tr>\n",
       "      <th>top</th>\n",
       "      <td>YKS</td>\n",
       "      <td>{\"en\": \"Yakutsk Airport\", \"ru\": \"Якутск\"}</td>\n",
       "      <td>{\"en\": \"Moscow\", \"ru\": \"Москва\"}</td>\n",
       "      <td>(129.77099609375,62.0932998657226562)</td>\n",
       "      <td>Europe/Moscow</td>\n",
       "    </tr>\n",
       "    <tr>\n",
       "      <th>freq</th>\n",
       "      <td>1</td>\n",
       "      <td>1</td>\n",
       "      <td>3</td>\n",
       "      <td>1</td>\n",
       "      <td>44</td>\n",
       "    </tr>\n",
       "  </tbody>\n",
       "</table>\n",
       "</div>"
      ],
      "text/plain": [
       "       airport_code                               airport_name  \\\n",
       "count           104                                        104   \n",
       "unique          104                                        104   \n",
       "top             YKS  {\"en\": \"Yakutsk Airport\", \"ru\": \"Якутск\"}   \n",
       "freq              1                                          1   \n",
       "\n",
       "                                    city  \\\n",
       "count                                104   \n",
       "unique                               101   \n",
       "top     {\"en\": \"Moscow\", \"ru\": \"Москва\"}   \n",
       "freq                                   3   \n",
       "\n",
       "                                  coordinates       timezone  \n",
       "count                                     104            104  \n",
       "unique                                    104             17  \n",
       "top     (129.77099609375,62.0932998657226562)  Europe/Moscow  \n",
       "freq                                        1             44  "
      ]
     },
     "execution_count": 35,
     "metadata": {},
     "output_type": "execute_result"
    }
   ],
   "source": [
    "seats.describe()\n",
    "seats.describe(include='all')"
   ]
  },
  {
   "cell_type": "code",
   "execution_count": 36,
   "id": "cd3fae8d-15b1-423f-ba78-f441f5b49518",
   "metadata": {},
   "outputs": [
    {
     "data": {
      "text/plain": [
       "Index(['airport_code', 'airport_name', 'city', 'coordinates', 'timezone'], dtype='object')"
      ]
     },
     "execution_count": 36,
     "metadata": {},
     "output_type": "execute_result"
    }
   ],
   "source": [
    "seats.columns"
   ]
  },
  {
   "cell_type": "markdown",
   "id": "4985af20-3f4e-4e3f-9dcd-5aa7cb93c6a8",
   "metadata": {},
   "source": [
    "## 7. ticket_flights:"
   ]
  },
  {
   "cell_type": "code",
   "execution_count": 37,
   "id": "8358767b-b8ee-4443-bda8-0abc08019080",
   "metadata": {},
   "outputs": [
    {
     "data": {
      "text/html": [
       "<div>\n",
       "<style scoped>\n",
       "    .dataframe tbody tr th:only-of-type {\n",
       "        vertical-align: middle;\n",
       "    }\n",
       "\n",
       "    .dataframe tbody tr th {\n",
       "        vertical-align: top;\n",
       "    }\n",
       "\n",
       "    .dataframe thead th {\n",
       "        text-align: right;\n",
       "    }\n",
       "</style>\n",
       "<table border=\"1\" class=\"dataframe\">\n",
       "  <thead>\n",
       "    <tr style=\"text-align: right;\">\n",
       "      <th></th>\n",
       "      <th>airport_code</th>\n",
       "      <th>airport_name</th>\n",
       "      <th>city</th>\n",
       "      <th>coordinates</th>\n",
       "      <th>timezone</th>\n",
       "    </tr>\n",
       "  </thead>\n",
       "  <tbody>\n",
       "    <tr>\n",
       "      <th>0</th>\n",
       "      <td>YKS</td>\n",
       "      <td>{\"en\": \"Yakutsk Airport\", \"ru\": \"Якутск\"}</td>\n",
       "      <td>{\"en\": \"Yakutsk\", \"ru\": \"Якутск\"}</td>\n",
       "      <td>(129.77099609375,62.0932998657226562)</td>\n",
       "      <td>Asia/Yakutsk</td>\n",
       "    </tr>\n",
       "    <tr>\n",
       "      <th>1</th>\n",
       "      <td>MJZ</td>\n",
       "      <td>{\"en\": \"Mirny Airport\", \"ru\": \"Мирный\"}</td>\n",
       "      <td>{\"en\": \"Mirnyj\", \"ru\": \"Мирный\"}</td>\n",
       "      <td>(114.03900146484375,62.534698486328125)</td>\n",
       "      <td>Asia/Yakutsk</td>\n",
       "    </tr>\n",
       "    <tr>\n",
       "      <th>2</th>\n",
       "      <td>KHV</td>\n",
       "      <td>{\"en\": \"Khabarovsk-Novy Airport\", \"ru\": \"Хабар...</td>\n",
       "      <td>{\"en\": \"Khabarovsk\", \"ru\": \"Хабаровск\"}</td>\n",
       "      <td>(135.18800354004,48.5279998779300001)</td>\n",
       "      <td>Asia/Vladivostok</td>\n",
       "    </tr>\n",
       "    <tr>\n",
       "      <th>3</th>\n",
       "      <td>PKC</td>\n",
       "      <td>{\"en\": \"Yelizovo Airport\", \"ru\": \"Елизово\"}</td>\n",
       "      <td>{\"en\": \"Petropavlovsk\", \"ru\": \"Петропавловск-К...</td>\n",
       "      <td>(158.453994750976562,53.1679000854492188)</td>\n",
       "      <td>Asia/Kamchatka</td>\n",
       "    </tr>\n",
       "    <tr>\n",
       "      <th>4</th>\n",
       "      <td>UUS</td>\n",
       "      <td>{\"en\": \"Yuzhno-Sakhalinsk Airport\", \"ru\": \"Хом...</td>\n",
       "      <td>{\"en\": \"Yuzhno-Sakhalinsk\", \"ru\": \"Южно-Сахали...</td>\n",
       "      <td>(142.718002319335938,46.8886985778808594)</td>\n",
       "      <td>Asia/Sakhalin</td>\n",
       "    </tr>\n",
       "  </tbody>\n",
       "</table>\n",
       "</div>"
      ],
      "text/plain": [
       "  airport_code                                       airport_name  \\\n",
       "0          YKS          {\"en\": \"Yakutsk Airport\", \"ru\": \"Якутск\"}   \n",
       "1          MJZ            {\"en\": \"Mirny Airport\", \"ru\": \"Мирный\"}   \n",
       "2          KHV  {\"en\": \"Khabarovsk-Novy Airport\", \"ru\": \"Хабар...   \n",
       "3          PKC        {\"en\": \"Yelizovo Airport\", \"ru\": \"Елизово\"}   \n",
       "4          UUS  {\"en\": \"Yuzhno-Sakhalinsk Airport\", \"ru\": \"Хом...   \n",
       "\n",
       "                                                city  \\\n",
       "0                  {\"en\": \"Yakutsk\", \"ru\": \"Якутск\"}   \n",
       "1                   {\"en\": \"Mirnyj\", \"ru\": \"Мирный\"}   \n",
       "2            {\"en\": \"Khabarovsk\", \"ru\": \"Хабаровск\"}   \n",
       "3  {\"en\": \"Petropavlovsk\", \"ru\": \"Петропавловск-К...   \n",
       "4  {\"en\": \"Yuzhno-Sakhalinsk\", \"ru\": \"Южно-Сахали...   \n",
       "\n",
       "                                 coordinates          timezone  \n",
       "0      (129.77099609375,62.0932998657226562)      Asia/Yakutsk  \n",
       "1    (114.03900146484375,62.534698486328125)      Asia/Yakutsk  \n",
       "2      (135.18800354004,48.5279998779300001)  Asia/Vladivostok  \n",
       "3  (158.453994750976562,53.1679000854492188)    Asia/Kamchatka  \n",
       "4  (142.718002319335938,46.8886985778808594)     Asia/Sakhalin  "
      ]
     },
     "execution_count": 37,
     "metadata": {},
     "output_type": "execute_result"
    }
   ],
   "source": [
    "ticket_flights = pd.read_sql_query(f\"\"\"SELECT * FROM airports_data\"\"\", connection)\n",
    "ticket_flights.head()"
   ]
  },
  {
   "cell_type": "code",
   "execution_count": 38,
   "id": "bec49b05-78e1-42f1-808d-6ef8335aebad",
   "metadata": {},
   "outputs": [
    {
     "data": {
      "text/plain": [
       "(104, 5)"
      ]
     },
     "execution_count": 38,
     "metadata": {},
     "output_type": "execute_result"
    }
   ],
   "source": [
    "ticket_flights.shape"
   ]
  },
  {
   "cell_type": "code",
   "execution_count": 39,
   "id": "1f285150-eab1-4cc3-bb1b-ecd82c88b14d",
   "metadata": {},
   "outputs": [
    {
     "name": "stdout",
     "output_type": "stream",
     "text": [
      "<class 'pandas.core.frame.DataFrame'>\n",
      "RangeIndex: 104 entries, 0 to 103\n",
      "Data columns (total 5 columns):\n",
      " #   Column        Non-Null Count  Dtype \n",
      "---  ------        --------------  ----- \n",
      " 0   airport_code  104 non-null    object\n",
      " 1   airport_name  104 non-null    object\n",
      " 2   city          104 non-null    object\n",
      " 3   coordinates   104 non-null    object\n",
      " 4   timezone      104 non-null    object\n",
      "dtypes: object(5)\n",
      "memory usage: 4.2+ KB\n"
     ]
    }
   ],
   "source": [
    "ticket_flights.info()"
   ]
  },
  {
   "cell_type": "code",
   "execution_count": 40,
   "id": "d4b5b2f6-d2aa-4fd8-9729-c1e7701964d2",
   "metadata": {
    "scrolled": true
   },
   "outputs": [
    {
     "data": {
      "text/html": [
       "<div>\n",
       "<style scoped>\n",
       "    .dataframe tbody tr th:only-of-type {\n",
       "        vertical-align: middle;\n",
       "    }\n",
       "\n",
       "    .dataframe tbody tr th {\n",
       "        vertical-align: top;\n",
       "    }\n",
       "\n",
       "    .dataframe thead th {\n",
       "        text-align: right;\n",
       "    }\n",
       "</style>\n",
       "<table border=\"1\" class=\"dataframe\">\n",
       "  <thead>\n",
       "    <tr style=\"text-align: right;\">\n",
       "      <th></th>\n",
       "      <th>airport_code</th>\n",
       "      <th>airport_name</th>\n",
       "      <th>city</th>\n",
       "      <th>coordinates</th>\n",
       "      <th>timezone</th>\n",
       "    </tr>\n",
       "  </thead>\n",
       "  <tbody>\n",
       "    <tr>\n",
       "      <th>count</th>\n",
       "      <td>104</td>\n",
       "      <td>104</td>\n",
       "      <td>104</td>\n",
       "      <td>104</td>\n",
       "      <td>104</td>\n",
       "    </tr>\n",
       "    <tr>\n",
       "      <th>unique</th>\n",
       "      <td>104</td>\n",
       "      <td>104</td>\n",
       "      <td>101</td>\n",
       "      <td>104</td>\n",
       "      <td>17</td>\n",
       "    </tr>\n",
       "    <tr>\n",
       "      <th>top</th>\n",
       "      <td>YKS</td>\n",
       "      <td>{\"en\": \"Yakutsk Airport\", \"ru\": \"Якутск\"}</td>\n",
       "      <td>{\"en\": \"Moscow\", \"ru\": \"Москва\"}</td>\n",
       "      <td>(129.77099609375,62.0932998657226562)</td>\n",
       "      <td>Europe/Moscow</td>\n",
       "    </tr>\n",
       "    <tr>\n",
       "      <th>freq</th>\n",
       "      <td>1</td>\n",
       "      <td>1</td>\n",
       "      <td>3</td>\n",
       "      <td>1</td>\n",
       "      <td>44</td>\n",
       "    </tr>\n",
       "  </tbody>\n",
       "</table>\n",
       "</div>"
      ],
      "text/plain": [
       "       airport_code                               airport_name  \\\n",
       "count           104                                        104   \n",
       "unique          104                                        104   \n",
       "top             YKS  {\"en\": \"Yakutsk Airport\", \"ru\": \"Якутск\"}   \n",
       "freq              1                                          1   \n",
       "\n",
       "                                    city  \\\n",
       "count                                104   \n",
       "unique                               101   \n",
       "top     {\"en\": \"Moscow\", \"ru\": \"Москва\"}   \n",
       "freq                                   3   \n",
       "\n",
       "                                  coordinates       timezone  \n",
       "count                                     104            104  \n",
       "unique                                    104             17  \n",
       "top     (129.77099609375,62.0932998657226562)  Europe/Moscow  \n",
       "freq                                        1             44  "
      ]
     },
     "execution_count": 40,
     "metadata": {},
     "output_type": "execute_result"
    }
   ],
   "source": [
    "ticket_flights.describe()\n",
    "ticket_flights.describe(include='all')"
   ]
  },
  {
   "cell_type": "code",
   "execution_count": 41,
   "id": "51476385-5382-46c2-bbfd-abad717fca70",
   "metadata": {},
   "outputs": [
    {
     "data": {
      "text/plain": [
       "Index(['airport_code', 'airport_name', 'city', 'coordinates', 'timezone'], dtype='object')"
      ]
     },
     "execution_count": 41,
     "metadata": {},
     "output_type": "execute_result"
    }
   ],
   "source": [
    "ticket_flights.columns"
   ]
  },
  {
   "cell_type": "markdown",
   "id": "2ae64858-e8ac-4d50-a1e7-00a354ef5f5a",
   "metadata": {},
   "source": [
    "## 7. tickets:"
   ]
  },
  {
   "cell_type": "code",
   "execution_count": 42,
   "id": "53594195-c293-426e-bdea-dd5660a36401",
   "metadata": {
    "scrolled": true
   },
   "outputs": [
    {
     "data": {
      "text/html": [
       "<div>\n",
       "<style scoped>\n",
       "    .dataframe tbody tr th:only-of-type {\n",
       "        vertical-align: middle;\n",
       "    }\n",
       "\n",
       "    .dataframe tbody tr th {\n",
       "        vertical-align: top;\n",
       "    }\n",
       "\n",
       "    .dataframe thead th {\n",
       "        text-align: right;\n",
       "    }\n",
       "</style>\n",
       "<table border=\"1\" class=\"dataframe\">\n",
       "  <thead>\n",
       "    <tr style=\"text-align: right;\">\n",
       "      <th></th>\n",
       "      <th>airport_code</th>\n",
       "      <th>airport_name</th>\n",
       "      <th>city</th>\n",
       "      <th>coordinates</th>\n",
       "      <th>timezone</th>\n",
       "    </tr>\n",
       "  </thead>\n",
       "  <tbody>\n",
       "    <tr>\n",
       "      <th>0</th>\n",
       "      <td>YKS</td>\n",
       "      <td>{\"en\": \"Yakutsk Airport\", \"ru\": \"Якутск\"}</td>\n",
       "      <td>{\"en\": \"Yakutsk\", \"ru\": \"Якутск\"}</td>\n",
       "      <td>(129.77099609375,62.0932998657226562)</td>\n",
       "      <td>Asia/Yakutsk</td>\n",
       "    </tr>\n",
       "    <tr>\n",
       "      <th>1</th>\n",
       "      <td>MJZ</td>\n",
       "      <td>{\"en\": \"Mirny Airport\", \"ru\": \"Мирный\"}</td>\n",
       "      <td>{\"en\": \"Mirnyj\", \"ru\": \"Мирный\"}</td>\n",
       "      <td>(114.03900146484375,62.534698486328125)</td>\n",
       "      <td>Asia/Yakutsk</td>\n",
       "    </tr>\n",
       "    <tr>\n",
       "      <th>2</th>\n",
       "      <td>KHV</td>\n",
       "      <td>{\"en\": \"Khabarovsk-Novy Airport\", \"ru\": \"Хабар...</td>\n",
       "      <td>{\"en\": \"Khabarovsk\", \"ru\": \"Хабаровск\"}</td>\n",
       "      <td>(135.18800354004,48.5279998779300001)</td>\n",
       "      <td>Asia/Vladivostok</td>\n",
       "    </tr>\n",
       "    <tr>\n",
       "      <th>3</th>\n",
       "      <td>PKC</td>\n",
       "      <td>{\"en\": \"Yelizovo Airport\", \"ru\": \"Елизово\"}</td>\n",
       "      <td>{\"en\": \"Petropavlovsk\", \"ru\": \"Петропавловск-К...</td>\n",
       "      <td>(158.453994750976562,53.1679000854492188)</td>\n",
       "      <td>Asia/Kamchatka</td>\n",
       "    </tr>\n",
       "    <tr>\n",
       "      <th>4</th>\n",
       "      <td>UUS</td>\n",
       "      <td>{\"en\": \"Yuzhno-Sakhalinsk Airport\", \"ru\": \"Хом...</td>\n",
       "      <td>{\"en\": \"Yuzhno-Sakhalinsk\", \"ru\": \"Южно-Сахали...</td>\n",
       "      <td>(142.718002319335938,46.8886985778808594)</td>\n",
       "      <td>Asia/Sakhalin</td>\n",
       "    </tr>\n",
       "  </tbody>\n",
       "</table>\n",
       "</div>"
      ],
      "text/plain": [
       "  airport_code                                       airport_name  \\\n",
       "0          YKS          {\"en\": \"Yakutsk Airport\", \"ru\": \"Якутск\"}   \n",
       "1          MJZ            {\"en\": \"Mirny Airport\", \"ru\": \"Мирный\"}   \n",
       "2          KHV  {\"en\": \"Khabarovsk-Novy Airport\", \"ru\": \"Хабар...   \n",
       "3          PKC        {\"en\": \"Yelizovo Airport\", \"ru\": \"Елизово\"}   \n",
       "4          UUS  {\"en\": \"Yuzhno-Sakhalinsk Airport\", \"ru\": \"Хом...   \n",
       "\n",
       "                                                city  \\\n",
       "0                  {\"en\": \"Yakutsk\", \"ru\": \"Якутск\"}   \n",
       "1                   {\"en\": \"Mirnyj\", \"ru\": \"Мирный\"}   \n",
       "2            {\"en\": \"Khabarovsk\", \"ru\": \"Хабаровск\"}   \n",
       "3  {\"en\": \"Petropavlovsk\", \"ru\": \"Петропавловск-К...   \n",
       "4  {\"en\": \"Yuzhno-Sakhalinsk\", \"ru\": \"Южно-Сахали...   \n",
       "\n",
       "                                 coordinates          timezone  \n",
       "0      (129.77099609375,62.0932998657226562)      Asia/Yakutsk  \n",
       "1    (114.03900146484375,62.534698486328125)      Asia/Yakutsk  \n",
       "2      (135.18800354004,48.5279998779300001)  Asia/Vladivostok  \n",
       "3  (158.453994750976562,53.1679000854492188)    Asia/Kamchatka  \n",
       "4  (142.718002319335938,46.8886985778808594)     Asia/Sakhalin  "
      ]
     },
     "execution_count": 42,
     "metadata": {},
     "output_type": "execute_result"
    }
   ],
   "source": [
    "tickets = pd.read_sql_query(f\"\"\"SELECT * FROM airports_data\"\"\", connection)\n",
    "tickets.head()"
   ]
  },
  {
   "cell_type": "code",
   "execution_count": 43,
   "id": "bc25deef-9625-422b-9cf5-5b129ebd7840",
   "metadata": {},
   "outputs": [
    {
     "data": {
      "text/plain": [
       "(104, 5)"
      ]
     },
     "execution_count": 43,
     "metadata": {},
     "output_type": "execute_result"
    }
   ],
   "source": [
    "tickets.shape"
   ]
  },
  {
   "cell_type": "code",
   "execution_count": 44,
   "id": "27a230a5-900e-4f2e-81bf-525d56a717c3",
   "metadata": {
    "scrolled": true
   },
   "outputs": [
    {
     "name": "stdout",
     "output_type": "stream",
     "text": [
      "<class 'pandas.core.frame.DataFrame'>\n",
      "RangeIndex: 104 entries, 0 to 103\n",
      "Data columns (total 5 columns):\n",
      " #   Column        Non-Null Count  Dtype \n",
      "---  ------        --------------  ----- \n",
      " 0   airport_code  104 non-null    object\n",
      " 1   airport_name  104 non-null    object\n",
      " 2   city          104 non-null    object\n",
      " 3   coordinates   104 non-null    object\n",
      " 4   timezone      104 non-null    object\n",
      "dtypes: object(5)\n",
      "memory usage: 4.2+ KB\n"
     ]
    }
   ],
   "source": [
    "tickets.info()"
   ]
  },
  {
   "cell_type": "code",
   "execution_count": 45,
   "id": "168f52e2-f55c-47c5-adc0-737247f72131",
   "metadata": {
    "scrolled": true
   },
   "outputs": [
    {
     "data": {
      "text/html": [
       "<div>\n",
       "<style scoped>\n",
       "    .dataframe tbody tr th:only-of-type {\n",
       "        vertical-align: middle;\n",
       "    }\n",
       "\n",
       "    .dataframe tbody tr th {\n",
       "        vertical-align: top;\n",
       "    }\n",
       "\n",
       "    .dataframe thead th {\n",
       "        text-align: right;\n",
       "    }\n",
       "</style>\n",
       "<table border=\"1\" class=\"dataframe\">\n",
       "  <thead>\n",
       "    <tr style=\"text-align: right;\">\n",
       "      <th></th>\n",
       "      <th>airport_code</th>\n",
       "      <th>airport_name</th>\n",
       "      <th>city</th>\n",
       "      <th>coordinates</th>\n",
       "      <th>timezone</th>\n",
       "    </tr>\n",
       "  </thead>\n",
       "  <tbody>\n",
       "    <tr>\n",
       "      <th>count</th>\n",
       "      <td>104</td>\n",
       "      <td>104</td>\n",
       "      <td>104</td>\n",
       "      <td>104</td>\n",
       "      <td>104</td>\n",
       "    </tr>\n",
       "    <tr>\n",
       "      <th>unique</th>\n",
       "      <td>104</td>\n",
       "      <td>104</td>\n",
       "      <td>101</td>\n",
       "      <td>104</td>\n",
       "      <td>17</td>\n",
       "    </tr>\n",
       "    <tr>\n",
       "      <th>top</th>\n",
       "      <td>YKS</td>\n",
       "      <td>{\"en\": \"Yakutsk Airport\", \"ru\": \"Якутск\"}</td>\n",
       "      <td>{\"en\": \"Moscow\", \"ru\": \"Москва\"}</td>\n",
       "      <td>(129.77099609375,62.0932998657226562)</td>\n",
       "      <td>Europe/Moscow</td>\n",
       "    </tr>\n",
       "    <tr>\n",
       "      <th>freq</th>\n",
       "      <td>1</td>\n",
       "      <td>1</td>\n",
       "      <td>3</td>\n",
       "      <td>1</td>\n",
       "      <td>44</td>\n",
       "    </tr>\n",
       "  </tbody>\n",
       "</table>\n",
       "</div>"
      ],
      "text/plain": [
       "       airport_code                               airport_name  \\\n",
       "count           104                                        104   \n",
       "unique          104                                        104   \n",
       "top             YKS  {\"en\": \"Yakutsk Airport\", \"ru\": \"Якутск\"}   \n",
       "freq              1                                          1   \n",
       "\n",
       "                                    city  \\\n",
       "count                                104   \n",
       "unique                               101   \n",
       "top     {\"en\": \"Moscow\", \"ru\": \"Москва\"}   \n",
       "freq                                   3   \n",
       "\n",
       "                                  coordinates       timezone  \n",
       "count                                     104            104  \n",
       "unique                                    104             17  \n",
       "top     (129.77099609375,62.0932998657226562)  Europe/Moscow  \n",
       "freq                                        1             44  "
      ]
     },
     "execution_count": 45,
     "metadata": {},
     "output_type": "execute_result"
    }
   ],
   "source": [
    "tickets.describe()\n",
    "tickets.describe(include='all')"
   ]
  },
  {
   "cell_type": "code",
   "execution_count": 46,
   "id": "13783f78-7b8a-4b59-aadc-76d0aad96cae",
   "metadata": {},
   "outputs": [
    {
     "data": {
      "text/plain": [
       "Index(['airport_code', 'airport_name', 'city', 'coordinates', 'timezone'], dtype='object')"
      ]
     },
     "execution_count": 46,
     "metadata": {},
     "output_type": "execute_result"
    }
   ],
   "source": [
    "tickets.columns"
   ]
  },
  {
   "cell_type": "code",
   "execution_count": 47,
   "id": "7f830e8b-c1a6-4d5c-a17d-27c9db11b7a3",
   "metadata": {
    "scrolled": true
   },
   "outputs": [
    {
     "name": "stdout",
     "output_type": "stream",
     "text": [
      "\n",
      "table: aircrafts_data\n",
      "('aircraft_code', 'character(3)')\n",
      "('model', 'jsonb')\n",
      "('range', 'integer')\n",
      "\n",
      "table: airports_data\n",
      "('airport_code', 'character(3)')\n",
      "('airport_name', 'jsonb')\n",
      "('city', 'jsonb')\n",
      "('coordinates', 'point')\n",
      "('timezone', 'text')\n",
      "\n",
      "table: boarding_passes\n",
      "('ticket_no', 'character(13)')\n",
      "('flight_id', 'integer')\n",
      "('boarding_no', 'integer')\n",
      "('seat_no', 'character varying(4)')\n",
      "\n",
      "table: bookings\n",
      "('book_ref', 'character(6)')\n",
      "('book_date', 'timestamp with time zone')\n",
      "('total_amount', 'numeric(10,2)')\n",
      "\n",
      "table: flights\n",
      "('flight_id', 'integer')\n",
      "('flight_no', 'character(6)')\n",
      "('scheduled_departure', 'timestamp with time zone')\n",
      "('scheduled_arrival', 'timestamp with time zone')\n",
      "('departure_airport', 'character(3)')\n",
      "('arrival_airport', 'character(3)')\n",
      "('status', 'character varying(20)')\n",
      "('aircraft_code', 'character(3)')\n",
      "('actual_departure', 'timestamp with time zone')\n",
      "('actual_arrival', 'timestamp with time zone')\n",
      "\n",
      "table: seats\n",
      "('aircraft_code', 'character(3)')\n",
      "('seat_no', 'character varying(4)')\n",
      "('fare_conditions', 'character varying(10)')\n",
      "\n",
      "table: ticket_flights\n",
      "('ticket_no', 'character(13)')\n",
      "('flight_id', 'integer')\n",
      "('fare_conditions', 'character varying(10)')\n",
      "('amount', 'numeric(10,2)')\n",
      "\n",
      "table: tickets\n",
      "('ticket_no', 'character(13)')\n",
      "('book_ref', 'character(6)')\n",
      "('passenger_id', 'character varying(20)')\n"
     ]
    }
   ],
   "source": [
    "for table in table_list:\n",
    "    print(\"\\ntable: \" + table)\n",
    "    columns_info = connection.execute(\"PRAGMA table_info({})\".format(table))\n",
    "    for column in columns_info.fetchall():\n",
    "        print(column[1:3])"
   ]
  },
  {
   "cell_type": "markdown",
   "id": "6ac3dc8b-5aa8-48fc-9605-27791d6c5348",
   "metadata": {},
   "source": [
    "# Data Cleaning"
   ]
  },
  {
   "cell_type": "code",
   "execution_count": 49,
   "id": "a5c5ceb0-a6e2-4dcb-8f67-cb54a14535f3",
   "metadata": {
    "collapsed": true,
    "jupyter": {
     "outputs_hidden": true
    },
    "scrolled": true
   },
   "outputs": [
    {
     "name": "stdout",
     "output_type": "stream",
     "text": [
      "\n",
      "Missing Values in table aircrafts_data\n",
      "aircraft_code    0\n",
      "model            0\n",
      "range            0\n",
      "dtype: int64\n",
      "\n",
      "Missing Values in table airports_data\n",
      "airport_code    0\n",
      "airport_name    0\n",
      "city            0\n",
      "coordinates     0\n",
      "timezone        0\n",
      "dtype: int64\n",
      "\n",
      "Missing Values in table boarding_passes\n",
      "ticket_no      0\n",
      "flight_id      0\n",
      "boarding_no    0\n",
      "seat_no        0\n",
      "dtype: int64\n",
      "\n",
      "Missing Values in table bookings\n",
      "book_ref        0\n",
      "book_date       0\n",
      "total_amount    0\n",
      "dtype: int64\n",
      "\n",
      "Missing Values in table flights\n",
      "flight_id              0\n",
      "flight_no              0\n",
      "scheduled_departure    0\n",
      "scheduled_arrival      0\n",
      "departure_airport      0\n",
      "arrival_airport        0\n",
      "status                 0\n",
      "aircraft_code          0\n",
      "actual_departure       0\n",
      "actual_arrival         0\n",
      "dtype: int64\n",
      "\n",
      "Missing Values in table seats\n",
      "aircraft_code      0\n",
      "seat_no            0\n",
      "fare_conditions    0\n",
      "dtype: int64\n",
      "\n",
      "Missing Values in table ticket_flights\n",
      "ticket_no          0\n",
      "flight_id          0\n",
      "fare_conditions    0\n",
      "amount             0\n",
      "dtype: int64\n",
      "\n",
      "Missing Values in table tickets\n",
      "ticket_no       0\n",
      "book_ref        0\n",
      "passenger_id    0\n",
      "dtype: int64\n"
     ]
    }
   ],
   "source": [
    "# checking for missing values in each column for every table\n",
    "for table in table_list:\n",
    "    print(f'\\nMissing Values in table {table}')\n",
    "    df_table = pd.read_sql_query(f\"\"\"SELECT * FROM {table}\"\"\", connection)\n",
    "    print(df_table.isnull().sum())"
   ]
  },
  {
   "cell_type": "markdown",
   "id": "4d953f32-15fd-45aa-8b8b-98c54765556a",
   "metadata": {},
   "source": [
    "# Basic Analysis"
   ]
  },
  {
   "cell_type": "markdown",
   "id": "20ea4099-111f-4308-9ba7-d48a212d8d91",
   "metadata": {},
   "source": [
    "### 1. How many planes have more than 100 seats?"
   ]
  },
  {
   "cell_type": "code",
   "execution_count": 50,
   "id": "066ead66-edb7-4918-b917-b27991faef86",
   "metadata": {},
   "outputs": [
    {
     "data": {
      "text/html": [
       "<div>\n",
       "<style scoped>\n",
       "    .dataframe tbody tr th:only-of-type {\n",
       "        vertical-align: middle;\n",
       "    }\n",
       "\n",
       "    .dataframe tbody tr th {\n",
       "        vertical-align: top;\n",
       "    }\n",
       "\n",
       "    .dataframe thead th {\n",
       "        text-align: right;\n",
       "    }\n",
       "</style>\n",
       "<table border=\"1\" class=\"dataframe\">\n",
       "  <thead>\n",
       "    <tr style=\"text-align: right;\">\n",
       "      <th></th>\n",
       "      <th>aircraft_code</th>\n",
       "      <th>num_seats</th>\n",
       "    </tr>\n",
       "  </thead>\n",
       "  <tbody>\n",
       "    <tr>\n",
       "      <th>0</th>\n",
       "      <td>773</td>\n",
       "      <td>402</td>\n",
       "    </tr>\n",
       "    <tr>\n",
       "      <th>1</th>\n",
       "      <td>763</td>\n",
       "      <td>222</td>\n",
       "    </tr>\n",
       "    <tr>\n",
       "      <th>2</th>\n",
       "      <td>321</td>\n",
       "      <td>170</td>\n",
       "    </tr>\n",
       "    <tr>\n",
       "      <th>3</th>\n",
       "      <td>320</td>\n",
       "      <td>140</td>\n",
       "    </tr>\n",
       "    <tr>\n",
       "      <th>4</th>\n",
       "      <td>733</td>\n",
       "      <td>130</td>\n",
       "    </tr>\n",
       "    <tr>\n",
       "      <th>5</th>\n",
       "      <td>319</td>\n",
       "      <td>116</td>\n",
       "    </tr>\n",
       "  </tbody>\n",
       "</table>\n",
       "</div>"
      ],
      "text/plain": [
       "  aircraft_code  num_seats\n",
       "0           773        402\n",
       "1           763        222\n",
       "2           321        170\n",
       "3           320        140\n",
       "4           733        130\n",
       "5           319        116"
      ]
     },
     "execution_count": 50,
     "metadata": {},
     "output_type": "execute_result"
    }
   ],
   "source": [
    "pd.read_sql_query(f\"\"\"SELECT aircraft_code, COUNT(*) as num_seats FROM seats \n",
    "                        GROUP BY aircraft_code \n",
    "                        HAVING num_seats > 100 \n",
    "                        ORDER BY num_seats DESC\"\"\", connection)"
   ]
  },
  {
   "cell_type": "markdown",
   "id": "04bb2f57-d557-4d87-8ec4-9b97fc6eb907",
   "metadata": {},
   "source": [
    "### 2. How the number of tickets booked and total amount earned changed with the time?"
   ]
  },
  {
   "cell_type": "code",
   "execution_count": 51,
   "id": "175dfef3-4049-45fb-bafc-7002b6f68d48",
   "metadata": {},
   "outputs": [
    {
     "data": {
      "image/png": "[encoded data removed]",
      "text/plain": [
       "<Figure size 1800x600 with 1 Axes>"
      ]
     },
     "metadata": {},
     "output_type": "display_data"
    }
   ],
   "source": [
    "tickets = pd.read_sql_query(f\"\"\"SELECT *\n",
    "                                    FROM tickets\n",
    "                                    INNER JOIN bookings \n",
    "                                    ON tickets.book_ref=bookings.book_ref;\"\"\", connection)\n",
    "tickets['book_date'] = pd.to_datetime(tickets['book_date'])\n",
    "tickets['date'] = tickets['book_date'].dt.date\n",
    "x =  tickets.groupby('date')[['date']].count()\n",
    "plt.figure(figsize = (18,6))\n",
    "plt.plot(x.index,x['date'], marker = '^')\n",
    "plt.xlabel('Date', fontsize = 20)\n",
    "plt.ylabel('Number of Tickets', fontsize = 20)\n",
    "plt.grid('b')\n",
    "plt.show()"
   ]
  },
  {
   "cell_type": "code",
   "execution_count": 52,
   "id": "6e7f40d5-ea72-482e-9ff9-b9d0cbc9dbab",
   "metadata": {},
   "outputs": [
    {
     "data": {
      "image/png": "[encoded data removed]",
      "text/plain": [
       "<Figure size 1800x600 with 1 Axes>"
      ]
     },
     "metadata": {},
     "output_type": "display_data"
    }
   ],
   "source": [
    "bookings = pd.read_sql_query(f\"\"\"SELECT * FROM bookings\"\"\", connection)\n",
    "bookings['book_date'] = pd.to_datetime(bookings['book_date'])\n",
    "bookings['date'] = bookings['book_date'].dt.date\n",
    "y =  bookings.groupby('date')[['total_amount']].sum()\n",
    "plt.figure(figsize = (18,6))\n",
    "plt.plot(y.index,y['total_amount'], marker = 'o')\n",
    "plt.xlabel('Date', fontsize = 20)\n",
    "plt.ylabel('Total Amount', fontsize = 20)\n",
    "plt.grid('b')\n",
    "plt.show()"
   ]
  },
  {
   "cell_type": "markdown",
   "id": "095aba39-06fa-461b-a352-3f8f059b4db0",
   "metadata": {},
   "source": [
    "### 3. Calculate the average charges for each aircraft with different fare conditions."
   ]
  },
  {
   "cell_type": "code",
   "execution_count": 54,
   "id": "4fc7e6ee-247b-4bf2-8fe0-8edf4b548407",
   "metadata": {},
   "outputs": [
    {
     "data": {
      "image/png": "[encoded data removed]",
      "text/plain": [
       "<Figure size 640x480 with 1 Axes>"
      ]
     },
     "metadata": {},
     "output_type": "display_data"
    }
   ],
   "source": [
    "df = pd.read_sql_query(f\"\"\"SELECT fare_conditions, aircraft_code, AVG(amount) as avg_amount FROM ticket_flights\n",
    "                        JOIN flights \n",
    "                        ON ticket_flights.flight_id=flights.flight_id \n",
    "                        GROUP BY aircraft_code, fare_conditions\"\"\", connection)\n",
    "\n",
    "sns.barplot(data = df, x = 'aircraft_code', y ='avg_amount', hue = 'fare_conditions')\n",
    "plt.tight_layout()"
   ]
  },
  {
   "cell_type": "markdown",
   "id": "34a7287f-be7b-44b3-bd78-8a87caf97119",
   "metadata": {},
   "source": [
    "# Analyzing Occupancy Rate"
   ]
  },
  {
   "cell_type": "markdown",
   "id": "ed278461-08e8-4d9d-bab7-50a874d22685",
   "metadata": {},
   "source": [
    "#### For each aircraft, calculate the total revenue per year and the average revenue per ticket."
   ]
  },
  {
   "cell_type": "code",
   "execution_count": 55,
   "id": "2dcd1d3d-b3b1-457d-85be-ee35b87c85fe",
   "metadata": {},
   "outputs": [],
   "source": [
    "pd.set_option('display.float_format', str)"
   ]
  },
  {
   "cell_type": "code",
   "execution_count": 56,
   "id": "8005a993-bc97-4d7e-b003-bd489c3c948d",
   "metadata": {},
   "outputs": [
    {
     "data": {
      "text/html": [
       "<div>\n",
       "<style scoped>\n",
       "    .dataframe tbody tr th:only-of-type {\n",
       "        vertical-align: middle;\n",
       "    }\n",
       "\n",
       "    .dataframe tbody tr th {\n",
       "        vertical-align: top;\n",
       "    }\n",
       "\n",
       "    .dataframe thead th {\n",
       "        text-align: right;\n",
       "    }\n",
       "</style>\n",
       "<table border=\"1\" class=\"dataframe\">\n",
       "  <thead>\n",
       "    <tr style=\"text-align: right;\">\n",
       "      <th></th>\n",
       "      <th>aircraft_code</th>\n",
       "      <th>total_revenue</th>\n",
       "      <th>ticket_count</th>\n",
       "      <th>avg_revenue_per_ticket</th>\n",
       "    </tr>\n",
       "  </thead>\n",
       "  <tbody>\n",
       "    <tr>\n",
       "      <th>0</th>\n",
       "      <td>319</td>\n",
       "      <td>2706163100</td>\n",
       "      <td>52853</td>\n",
       "      <td>51201</td>\n",
       "    </tr>\n",
       "    <tr>\n",
       "      <th>1</th>\n",
       "      <td>321</td>\n",
       "      <td>1638164100</td>\n",
       "      <td>107129</td>\n",
       "      <td>15291</td>\n",
       "    </tr>\n",
       "    <tr>\n",
       "      <th>2</th>\n",
       "      <td>733</td>\n",
       "      <td>1426552100</td>\n",
       "      <td>86102</td>\n",
       "      <td>16568</td>\n",
       "    </tr>\n",
       "    <tr>\n",
       "      <th>3</th>\n",
       "      <td>763</td>\n",
       "      <td>4371277100</td>\n",
       "      <td>124774</td>\n",
       "      <td>35033</td>\n",
       "    </tr>\n",
       "    <tr>\n",
       "      <th>4</th>\n",
       "      <td>773</td>\n",
       "      <td>3431205500</td>\n",
       "      <td>144376</td>\n",
       "      <td>23765</td>\n",
       "    </tr>\n",
       "    <tr>\n",
       "      <th>5</th>\n",
       "      <td>CN1</td>\n",
       "      <td>96373800</td>\n",
       "      <td>14672</td>\n",
       "      <td>6568</td>\n",
       "    </tr>\n",
       "    <tr>\n",
       "      <th>6</th>\n",
       "      <td>CR2</td>\n",
       "      <td>1982760500</td>\n",
       "      <td>150122</td>\n",
       "      <td>13207</td>\n",
       "    </tr>\n",
       "    <tr>\n",
       "      <th>7</th>\n",
       "      <td>SU9</td>\n",
       "      <td>5114484700</td>\n",
       "      <td>365698</td>\n",
       "      <td>13985</td>\n",
       "    </tr>\n",
       "  </tbody>\n",
       "</table>\n",
       "</div>"
      ],
      "text/plain": [
       "  aircraft_code  total_revenue  ticket_count  avg_revenue_per_ticket\n",
       "0           319     2706163100         52853                   51201\n",
       "1           321     1638164100        107129                   15291\n",
       "2           733     1426552100         86102                   16568\n",
       "3           763     4371277100        124774                   35033\n",
       "4           773     3431205500        144376                   23765\n",
       "5           CN1       96373800         14672                    6568\n",
       "6           CR2     1982760500        150122                   13207\n",
       "7           SU9     5114484700        365698                   13985"
      ]
     },
     "execution_count": 56,
     "metadata": {},
     "output_type": "execute_result"
    }
   ],
   "source": [
    "pd.read_sql_query(f\"\"\"SELECT aircraft_code, total_revenue, ticket_count, total_revenue/ticket_count as avg_revenue_per_ticket\n",
    "                        FROM \n",
    "                        (SELECT aircraft_code, COUNT(*) as ticket_count, SUM(amount) as total_revenue  FROM ticket_flights\n",
    "                        JOIN flights \n",
    "                        ON ticket_flights.flight_id=flights.flight_id \n",
    "                        GROUP BY aircraft_code)\"\"\", connection)"
   ]
  },
  {
   "cell_type": "markdown",
   "id": "47232d31-245e-40f6-a449-e11eeb3e7ba1",
   "metadata": {},
   "source": [
    "#### Calculate the average occupancy per aircraft."
   ]
  },
  {
   "cell_type": "code",
   "execution_count": 58,
   "id": "b708f2aa-9691-479e-8778-cd7e87c88e6f",
   "metadata": {},
   "outputs": [
    {
     "data": {
      "text/html": [
       "<div>\n",
       "<style scoped>\n",
       "    .dataframe tbody tr th:only-of-type {\n",
       "        vertical-align: middle;\n",
       "    }\n",
       "\n",
       "    .dataframe tbody tr th {\n",
       "        vertical-align: top;\n",
       "    }\n",
       "\n",
       "    .dataframe thead th {\n",
       "        text-align: right;\n",
       "    }\n",
       "</style>\n",
       "<table border=\"1\" class=\"dataframe\">\n",
       "  <thead>\n",
       "    <tr style=\"text-align: right;\">\n",
       "      <th></th>\n",
       "      <th>aircraft_code</th>\n",
       "      <th>booked_seats</th>\n",
       "      <th>num_seats</th>\n",
       "      <th>occupancy_rate</th>\n",
       "    </tr>\n",
       "  </thead>\n",
       "  <tbody>\n",
       "    <tr>\n",
       "      <th>0</th>\n",
       "      <td>319</td>\n",
       "      <td>53.58318098720292</td>\n",
       "      <td>116</td>\n",
       "      <td>0.46192397402761143</td>\n",
       "    </tr>\n",
       "    <tr>\n",
       "      <th>1</th>\n",
       "      <td>321</td>\n",
       "      <td>88.80923076923077</td>\n",
       "      <td>170</td>\n",
       "      <td>0.5224072398190045</td>\n",
       "    </tr>\n",
       "    <tr>\n",
       "      <th>2</th>\n",
       "      <td>733</td>\n",
       "      <td>80.25546218487395</td>\n",
       "      <td>130</td>\n",
       "      <td>0.617349709114415</td>\n",
       "    </tr>\n",
       "    <tr>\n",
       "      <th>3</th>\n",
       "      <td>763</td>\n",
       "      <td>113.93729372937294</td>\n",
       "      <td>222</td>\n",
       "      <td>0.5132310528350132</td>\n",
       "    </tr>\n",
       "    <tr>\n",
       "      <th>4</th>\n",
       "      <td>773</td>\n",
       "      <td>264.9258064516129</td>\n",
       "      <td>402</td>\n",
       "      <td>0.659019419033863</td>\n",
       "    </tr>\n",
       "    <tr>\n",
       "      <th>5</th>\n",
       "      <td>CN1</td>\n",
       "      <td>6.004431314623338</td>\n",
       "      <td>12</td>\n",
       "      <td>0.5003692762186115</td>\n",
       "    </tr>\n",
       "    <tr>\n",
       "      <th>6</th>\n",
       "      <td>CR2</td>\n",
       "      <td>21.48284690220174</td>\n",
       "      <td>50</td>\n",
       "      <td>0.42965693804403476</td>\n",
       "    </tr>\n",
       "    <tr>\n",
       "      <th>7</th>\n",
       "      <td>SU9</td>\n",
       "      <td>56.81211267605634</td>\n",
       "      <td>97</td>\n",
       "      <td>0.5856918832583128</td>\n",
       "    </tr>\n",
       "  </tbody>\n",
       "</table>\n",
       "</div>"
      ],
      "text/plain": [
       "  aircraft_code       booked_seats  num_seats      occupancy_rate\n",
       "0           319  53.58318098720292        116 0.46192397402761143\n",
       "1           321  88.80923076923077        170  0.5224072398190045\n",
       "2           733  80.25546218487395        130   0.617349709114415\n",
       "3           763 113.93729372937294        222  0.5132310528350132\n",
       "4           773  264.9258064516129        402   0.659019419033863\n",
       "5           CN1  6.004431314623338         12  0.5003692762186115\n",
       "6           CR2  21.48284690220174         50 0.42965693804403476\n",
       "7           SU9  56.81211267605634         97  0.5856918832583128"
      ]
     },
     "execution_count": 58,
     "metadata": {},
     "output_type": "execute_result"
    }
   ],
   "source": [
    "occupancy_rate = pd.read_sql_query(f\"\"\"SELECT a.aircraft_code, AVG(a.seats_count) as booked_seats, b.num_seats, \n",
    "AVG(a.seats_count)/b.num_seats as occupancy_rate\n",
    "                            FROM (\n",
    "                                SELECT aircraft_code, flights.flight_id, COUNT(*) as seats_count\n",
    "                                FROM boarding_passes\n",
    "                                INNER JOIN flights \n",
    "                                ON boarding_passes.flight_id=flights.flight_id\n",
    "                                GROUP BY aircraft_code, flights.flight_id\n",
    "                                ) as a INNER JOIN\n",
    "                                (\n",
    "                                SELECT aircraft_code, COUNT(*) as num_seats FROM seats \n",
    "                                GROUP BY aircraft_code  \n",
    "                                ) as b\n",
    "                                ON a.aircraft_code = b.aircraft_code\n",
    "                            GROUP BY a.aircraft_code\"\"\", connection)\n",
    "occupancy_rate"
   ]
  },
  {
   "cell_type": "markdown",
   "id": "645246dd-3ddb-44b0-b6a5-35e624082a9e",
   "metadata": {},
   "source": [
    "#### Calculate by how much the total annual turnover could increase by giving all aircraft a 10% higher occupancy rate."
   ]
  },
  {
   "cell_type": "code",
   "execution_count": 59,
   "id": "1a994fa4-8008-44ee-8d32-baa1119027db",
   "metadata": {},
   "outputs": [
    {
     "data": {
      "text/html": [
       "<div>\n",
       "<style scoped>\n",
       "    .dataframe tbody tr th:only-of-type {\n",
       "        vertical-align: middle;\n",
       "    }\n",
       "\n",
       "    .dataframe tbody tr th {\n",
       "        vertical-align: top;\n",
       "    }\n",
       "\n",
       "    .dataframe thead th {\n",
       "        text-align: right;\n",
       "    }\n",
       "</style>\n",
       "<table border=\"1\" class=\"dataframe\">\n",
       "  <thead>\n",
       "    <tr style=\"text-align: right;\">\n",
       "      <th></th>\n",
       "      <th>aircraft_code</th>\n",
       "      <th>booked_seats</th>\n",
       "      <th>num_seats</th>\n",
       "      <th>occupancy_rate</th>\n",
       "      <th>Inc occupancy rate</th>\n",
       "    </tr>\n",
       "  </thead>\n",
       "  <tbody>\n",
       "    <tr>\n",
       "      <th>0</th>\n",
       "      <td>319</td>\n",
       "      <td>53.58318098720292</td>\n",
       "      <td>116</td>\n",
       "      <td>0.46192397402761143</td>\n",
       "      <td>0.5081163714303726</td>\n",
       "    </tr>\n",
       "    <tr>\n",
       "      <th>1</th>\n",
       "      <td>321</td>\n",
       "      <td>88.80923076923077</td>\n",
       "      <td>170</td>\n",
       "      <td>0.5224072398190045</td>\n",
       "      <td>0.574647963800905</td>\n",
       "    </tr>\n",
       "    <tr>\n",
       "      <th>2</th>\n",
       "      <td>733</td>\n",
       "      <td>80.25546218487395</td>\n",
       "      <td>130</td>\n",
       "      <td>0.617349709114415</td>\n",
       "      <td>0.6790846800258565</td>\n",
       "    </tr>\n",
       "    <tr>\n",
       "      <th>3</th>\n",
       "      <td>763</td>\n",
       "      <td>113.93729372937294</td>\n",
       "      <td>222</td>\n",
       "      <td>0.5132310528350132</td>\n",
       "      <td>0.5645541581185146</td>\n",
       "    </tr>\n",
       "    <tr>\n",
       "      <th>4</th>\n",
       "      <td>773</td>\n",
       "      <td>264.9258064516129</td>\n",
       "      <td>402</td>\n",
       "      <td>0.659019419033863</td>\n",
       "      <td>0.7249213609372492</td>\n",
       "    </tr>\n",
       "    <tr>\n",
       "      <th>5</th>\n",
       "      <td>CN1</td>\n",
       "      <td>6.004431314623338</td>\n",
       "      <td>12</td>\n",
       "      <td>0.5003692762186115</td>\n",
       "      <td>0.5504062038404727</td>\n",
       "    </tr>\n",
       "    <tr>\n",
       "      <th>6</th>\n",
       "      <td>CR2</td>\n",
       "      <td>21.48284690220174</td>\n",
       "      <td>50</td>\n",
       "      <td>0.42965693804403476</td>\n",
       "      <td>0.4726226318484382</td>\n",
       "    </tr>\n",
       "    <tr>\n",
       "      <th>7</th>\n",
       "      <td>SU9</td>\n",
       "      <td>56.81211267605634</td>\n",
       "      <td>97</td>\n",
       "      <td>0.5856918832583128</td>\n",
       "      <td>0.644261071584144</td>\n",
       "    </tr>\n",
       "  </tbody>\n",
       "</table>\n",
       "</div>"
      ],
      "text/plain": [
       "  aircraft_code       booked_seats  num_seats      occupancy_rate  \\\n",
       "0           319  53.58318098720292        116 0.46192397402761143   \n",
       "1           321  88.80923076923077        170  0.5224072398190045   \n",
       "2           733  80.25546218487395        130   0.617349709114415   \n",
       "3           763 113.93729372937294        222  0.5132310528350132   \n",
       "4           773  264.9258064516129        402   0.659019419033863   \n",
       "5           CN1  6.004431314623338         12  0.5003692762186115   \n",
       "6           CR2  21.48284690220174         50 0.42965693804403476   \n",
       "7           SU9  56.81211267605634         97  0.5856918832583128   \n",
       "\n",
       "   Inc occupancy rate  \n",
       "0  0.5081163714303726  \n",
       "1   0.574647963800905  \n",
       "2  0.6790846800258565  \n",
       "3  0.5645541581185146  \n",
       "4  0.7249213609372492  \n",
       "5  0.5504062038404727  \n",
       "6  0.4726226318484382  \n",
       "7   0.644261071584144  "
      ]
     },
     "execution_count": 59,
     "metadata": {},
     "output_type": "execute_result"
    }
   ],
   "source": [
    "occupancy_rate['Inc occupancy rate'] = occupancy_rate['occupancy_rate'] + occupancy_rate['occupancy_rate']*0.1\n",
    "occupancy_rate"
   ]
  },
  {
   "cell_type": "code",
   "execution_count": 60,
   "id": "c219b772-59be-4f36-9f0d-aa715f2dc605",
   "metadata": {},
   "outputs": [
    {
     "data": {
      "text/html": [
       "<div>\n",
       "<style scoped>\n",
       "    .dataframe tbody tr th:only-of-type {\n",
       "        vertical-align: middle;\n",
       "    }\n",
       "\n",
       "    .dataframe tbody tr th {\n",
       "        vertical-align: top;\n",
       "    }\n",
       "\n",
       "    .dataframe thead th {\n",
       "        text-align: right;\n",
       "    }\n",
       "</style>\n",
       "<table border=\"1\" class=\"dataframe\">\n",
       "  <thead>\n",
       "    <tr style=\"text-align: right;\">\n",
       "      <th></th>\n",
       "      <th>aircraft_code</th>\n",
       "      <th>booked_seats</th>\n",
       "      <th>num_seats</th>\n",
       "      <th>occupancy_rate</th>\n",
       "      <th>Inc occupancy rate</th>\n",
       "      <th>Inc Total Annual Turnover</th>\n",
       "    </tr>\n",
       "  </thead>\n",
       "  <tbody>\n",
       "    <tr>\n",
       "      <th>0</th>\n",
       "      <td>319</td>\n",
       "      <td>53.58318098720292</td>\n",
       "      <td>116</td>\n",
       "      <td>0.46192397402761143</td>\n",
       "      <td>0.5081163714303726</td>\n",
       "      <td>2976779410.0</td>\n",
       "    </tr>\n",
       "    <tr>\n",
       "      <th>1</th>\n",
       "      <td>321</td>\n",
       "      <td>88.80923076923077</td>\n",
       "      <td>170</td>\n",
       "      <td>0.5224072398190045</td>\n",
       "      <td>0.574647963800905</td>\n",
       "      <td>1801980510.0</td>\n",
       "    </tr>\n",
       "    <tr>\n",
       "      <th>2</th>\n",
       "      <td>733</td>\n",
       "      <td>80.25546218487395</td>\n",
       "      <td>130</td>\n",
       "      <td>0.617349709114415</td>\n",
       "      <td>0.6790846800258565</td>\n",
       "      <td>1569207310.0000002</td>\n",
       "    </tr>\n",
       "    <tr>\n",
       "      <th>3</th>\n",
       "      <td>763</td>\n",
       "      <td>113.93729372937294</td>\n",
       "      <td>222</td>\n",
       "      <td>0.5132310528350132</td>\n",
       "      <td>0.5645541581185146</td>\n",
       "      <td>4808404810.0</td>\n",
       "    </tr>\n",
       "    <tr>\n",
       "      <th>4</th>\n",
       "      <td>773</td>\n",
       "      <td>264.9258064516129</td>\n",
       "      <td>402</td>\n",
       "      <td>0.659019419033863</td>\n",
       "      <td>0.7249213609372492</td>\n",
       "      <td>3774326050.0</td>\n",
       "    </tr>\n",
       "    <tr>\n",
       "      <th>5</th>\n",
       "      <td>CN1</td>\n",
       "      <td>6.004431314623338</td>\n",
       "      <td>12</td>\n",
       "      <td>0.5003692762186115</td>\n",
       "      <td>0.5504062038404727</td>\n",
       "      <td>106011180.00000001</td>\n",
       "    </tr>\n",
       "    <tr>\n",
       "      <th>6</th>\n",
       "      <td>CR2</td>\n",
       "      <td>21.48284690220174</td>\n",
       "      <td>50</td>\n",
       "      <td>0.42965693804403476</td>\n",
       "      <td>0.4726226318484382</td>\n",
       "      <td>2181036550.0</td>\n",
       "    </tr>\n",
       "    <tr>\n",
       "      <th>7</th>\n",
       "      <td>SU9</td>\n",
       "      <td>56.81211267605634</td>\n",
       "      <td>97</td>\n",
       "      <td>0.5856918832583128</td>\n",
       "      <td>0.644261071584144</td>\n",
       "      <td>5625933169.999999</td>\n",
       "    </tr>\n",
       "  </tbody>\n",
       "</table>\n",
       "</div>"
      ],
      "text/plain": [
       "  aircraft_code       booked_seats  num_seats      occupancy_rate  \\\n",
       "0           319  53.58318098720292        116 0.46192397402761143   \n",
       "1           321  88.80923076923077        170  0.5224072398190045   \n",
       "2           733  80.25546218487395        130   0.617349709114415   \n",
       "3           763 113.93729372937294        222  0.5132310528350132   \n",
       "4           773  264.9258064516129        402   0.659019419033863   \n",
       "5           CN1  6.004431314623338         12  0.5003692762186115   \n",
       "6           CR2  21.48284690220174         50 0.42965693804403476   \n",
       "7           SU9  56.81211267605634         97  0.5856918832583128   \n",
       "\n",
       "   Inc occupancy rate  Inc Total Annual Turnover  \n",
       "0  0.5081163714303726               2976779410.0  \n",
       "1   0.574647963800905               1801980510.0  \n",
       "2  0.6790846800258565         1569207310.0000002  \n",
       "3  0.5645541581185146               4808404810.0  \n",
       "4  0.7249213609372492               3774326050.0  \n",
       "5  0.5504062038404727         106011180.00000001  \n",
       "6  0.4726226318484382               2181036550.0  \n",
       "7   0.644261071584144          5625933169.999999  "
      ]
     },
     "execution_count": 60,
     "metadata": {},
     "output_type": "execute_result"
    }
   ],
   "source": [
    "total_revenue = pd.read_sql_query(\"\"\"SELECT aircraft_code, SUM(amount) as total_revenue  FROM ticket_flights\n",
    "                        JOIN flights \n",
    "                        ON ticket_flights.flight_id=flights.flight_id \n",
    "                        GROUP BY aircraft_code\"\"\", connection)\n",
    "\n",
    "occupancy_rate['Inc Total Annual Turnover'] = (total_revenue['total_revenue']/occupancy_rate['occupancy_rate'])\n",
    "*occupancy_rate['Inc occupancy rate']\n",
    "occupancy_rate"
   ]
  },
  {
   "cell_type": "code",
   "execution_count": null,
   "id": "2009d200-9bc0-4630-8824-074359124e46",
   "metadata": {},
   "outputs": [],
   "source": []
  }
 ],
 "metadata": {
  "kernelspec": {
   "display_name": "Python (tf-env)",
   "language": "python",
   "name": "tf-env"
  },
  "language_info": {
   "codemirror_mode": {
    "name": "ipython",
    "version": 3
   },
   "file_extension": ".py",
   "mimetype": "text/x-python",
   "name": "python",
   "nbconvert_exporter": "python",
   "pygments_lexer": "ipython3",
   "version": "3.10.0rc2"
  }
 },
 "nbformat": 4,
 "nbformat_minor": 5
}
